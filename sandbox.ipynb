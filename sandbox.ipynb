{
 "cells": [
  {
   "cell_type": "markdown",
   "metadata": {},
   "source": [
    "# I - Importations"
   ]
  },
  {
   "cell_type": "code",
   "execution_count": 1,
   "metadata": {},
   "outputs": [],
   "source": [
    "import os\n",
    "import numpy as np\n",
    "from helpers.labels import labels\n",
    "import tensorflow as tf\n",
    "from tensorflow.keras import models # type: ignore\n",
    "from tensorflow.keras.layers import Conv2D, Conv2DTranspose, UpSampling2D, concatenate, Input, MaxPooling2D # type: ignore\n",
    "from tensorflow.keras.models import Model # type: ignore\n",
    "from tensorflow.keras.utils import Sequence # type: ignore\n",
    "from tensorflow.keras.preprocessing.image import load_img, img_to_array # type: ignore\n",
    "from tensorflow.keras.applications import VGG16 # type: ignore\n",
    "import albumentations as Album\n",
    "\n",
    "import mlflow\n",
    "import mlflow.tensorflow"
   ]
  },
  {
   "cell_type": "markdown",
   "metadata": {},
   "source": [
    "# II - Paramétrages"
   ]
  },
  {
   "cell_type": "code",
   "execution_count": 2,
   "metadata": {},
   "outputs": [
    {
     "name": "stderr",
     "output_type": "stream",
     "text": [
      "2024/10/28 22:04:17 WARNING mlflow.utils.autologging_utils: MLflow tensorflow autologging is known to be compatible with 2.7.4 <= tensorflow <= 2.17.0, but the installed version is 2.18.0. If you encounter errors during autologging, try upgrading / downgrading tensorflow to a compatible version, or try upgrading MLflow.\n"
     ]
    }
   ],
   "source": [
    "TRAIN_IMAGE_DIR = \"datas/train/image\"\n",
    "TRAIN_MASK_DIR = \"datas/train/labelIds\"\n",
    "VAL_IMAGE_DIR = \"datas/val/image\"\n",
    "VAL_MASK_DIR = \"datas/val/labelIds\"\n",
    "IMG_HEIGHT = 128\n",
    "IMG_WIDTH = 128\n",
    "BATCH_SIZE = 32\n",
    "LIMIT_NUM_IMAGES = None\n",
    "\n",
    "mlflow.set_tracking_uri(uri=\"http://127.0.0.1:8080\")\n",
    "mlflow.set_experiment(\"experiment\")\n",
    "mlflow.tensorflow.autolog()"
   ]
  },
  {
   "cell_type": "markdown",
   "metadata": {},
   "source": [
    "# III - Classes"
   ]
  },
  {
   "cell_type": "code",
   "execution_count": 3,
   "metadata": {},
   "outputs": [],
   "source": [
    "class ImageMaskGenerator(Sequence):\n",
    "\n",
    "    \n",
    "    def __init__(self, image_dir, mask_dir, class_mapping, batch_size=32, img_height=1024, img_width=2048, shuffle=True, limit_num_images=None, augment=False, **kwargs):\n",
    "        self.image_dir = image_dir\n",
    "        self.mask_dir = mask_dir\n",
    "        self.class_mapping = class_mapping\n",
    "        self.batch_size = batch_size\n",
    "        self.img_height = img_height\n",
    "        self.img_width = img_width\n",
    "        self.limit_num_images = limit_num_images\n",
    "        self.augment = augment\n",
    "        self.shuffle = shuffle\n",
    "        self.image_mask_pairs = self.create_image_mask_pairs()\n",
    "        self.indexes = np.arange(len(self.image_mask_pairs))\n",
    "\n",
    "        self.augmentation_pipeline = Album.Compose([\n",
    "            Album.HorizontalFlip(p=0.5),\n",
    "            Album.RandomBrightnessContrast(p=0.2),\n",
    "            Album.Rotate(limit=35, p=0.5)\n",
    "        ])\n",
    "\n",
    "        self.on_epoch_end()\n",
    "\n",
    "        super().__init__(**kwargs)\n",
    "\n",
    "    def __len__(self):\n",
    "        return int(np.ceil(len(self.image_mask_pairs) / self.batch_size))\n",
    "\n",
    "    def __getitem__(self, idx):\n",
    "        batch_indexes = self.indexes[idx * self.batch_size:(idx + 1) * self.batch_size]\n",
    "        batch_images, batch_masks = self.__data_generation(batch_indexes)\n",
    "        return batch_images, batch_masks\n",
    "\n",
    "    def __data_generation(self, batch_indexes):\n",
    "\n",
    "        images = []\n",
    "        masks = []\n",
    "        batch_image_mask_pairs = [self.image_mask_pairs[i] for i in batch_indexes]\n",
    "        for image_name, mask_name in batch_image_mask_pairs:\n",
    "            image_path = os.path.join(self.image_dir, image_name)\n",
    "            mask_path = os.path.join(self.mask_dir, mask_name)\n",
    "\n",
    "            img = img_to_array(load_img(image_path, target_size=(self.img_height, self.img_width)), dtype=np.float32)\n",
    "\n",
    "            mask = img_to_array(load_img(mask_path, target_size=(self.img_height, self.img_width)), dtype=np.float32)\n",
    "            mask = mask[..., 0]\n",
    "\n",
    "            if self.augment:\n",
    "                augmented = self.augmentation_pipeline(image=img, mask=mask)\n",
    "                img, mask = augmented[\"image\"], augmented[\"mask\"]\n",
    "\n",
    "            mapped_mask = np.zeros((self.img_height, self.img_width, 8), dtype=np.int8)\n",
    "            for val, mapped_val in self.class_mapping.items():\n",
    "                mapped_mask[mask == val, mapped_val] = 1\n",
    "\n",
    "            images.append(img / 255.0)\n",
    "            masks.append(mapped_mask)\n",
    "\n",
    "        return np.array(images, dtype=np.float32), np.array(masks, dtype=np.int8)\n",
    "\n",
    "    def on_epoch_end(self):\n",
    "        if self.shuffle:\n",
    "            np.random.shuffle(self.indexes)\n",
    "\n",
    "    def create_image_mask_pairs(self):\n",
    "\n",
    "        if self.limit_num_images:\n",
    "            image_files = [f for i, f in enumerate(os.listdir(self.image_dir)) if i < self.limit_num_images]\n",
    "            mask_files = [f for i, f in enumerate(os.listdir(self.mask_dir)) if i < self.limit_num_images]\n",
    "        else:\n",
    "            image_files = [f for f in os.listdir(self.image_dir)]\n",
    "            mask_files = [f for f in os.listdir(self.mask_dir)]\n",
    "\n",
    "        return list(zip(image_files, mask_files))\n",
    "\n",
    "    "
   ]
  },
  {
   "cell_type": "markdown",
   "metadata": {},
   "source": [
    "# IV - Fonctions"
   ]
  },
  {
   "cell_type": "code",
   "execution_count": 4,
   "metadata": {},
   "outputs": [],
   "source": [
    "def unet_mini(input_shape):\n",
    "    inputs = Input(shape=input_shape)\n",
    "\n",
    "    # Contracting path\n",
    "    c1 = Conv2D(32, (3, 3), activation='relu', padding='same')(inputs)\n",
    "    c1 = Conv2D(32, (3, 3), activation='relu', padding='same')(c1)\n",
    "    p1 = MaxPooling2D((2, 2))(c1)\n",
    "\n",
    "    c2 = Conv2D(64, (3, 3), activation='relu', padding='same')(p1)\n",
    "    c2 = Conv2D(64, (3, 3), activation='relu', padding='same')(c2)\n",
    "    p2 = MaxPooling2D((2, 2))(c2)\n",
    "\n",
    "    # Bottleneck\n",
    "    c3 = Conv2D(128, (3, 3), activation='relu', padding='same')(p2)\n",
    "    c3 = Conv2D(128, (3, 3), activation='relu', padding='same')(c3)\n",
    "\n",
    "    # Expanding path\n",
    "    u4 = Conv2DTranspose(64, (2, 2), strides=(2, 2), padding='same')(c3)\n",
    "    u4 = concatenate([u4, c2])\n",
    "    c4 = Conv2D(64, (3, 3), activation='relu', padding='same')(u4)\n",
    "    c4 = Conv2D(64, (3, 3), activation='relu', padding='same')(c4)\n",
    "\n",
    "    u5 = Conv2DTranspose(32, (2, 2), strides=(2, 2), padding='same')(c4)\n",
    "    u5 = concatenate([u5, c1])\n",
    "    c5 = Conv2D(32, (3, 3), activation='relu', padding='same')(u5)\n",
    "    c5 = Conv2D(32, (3, 3), activation='relu', padding='same')(c5)\n",
    "\n",
    "    outputs = Conv2D(8, (1, 1), activation='softmax')(c5)  # 8 classes\n",
    "\n",
    "    model = models.Model(inputs=[inputs], outputs=[outputs])\n",
    "    return model\n"
   ]
  },
  {
   "cell_type": "code",
   "execution_count": 5,
   "metadata": {},
   "outputs": [],
   "source": [
    "def unet_vgg16(input_shape=(128, 128, 3), num_classes=8):\n",
    "    # Encoder: VGG16 backbone (pre-trained on ImageNet)\n",
    "    base_model = VGG16(weights='imagenet', include_top=False, input_shape=input_shape)\n",
    "    base_model.trainable = False  # Freeze VGG16 layers\n",
    "    \n",
    "    # Extract specific feature layers for skip connections in the U-Net architecture\n",
    "    f1 = base_model.get_layer(\"block1_pool\").output  # (64x64)\n",
    "    f2 = base_model.get_layer(\"block2_pool\").output  # (32x32)\n",
    "    f3 = base_model.get_layer(\"block3_pool\").output  # (16x16)\n",
    "    f4 = base_model.get_layer(\"block4_pool\").output  # (8x8)\n",
    "    f5 = base_model.get_layer(\"block5_pool\").output  # (4x4)\n",
    "    \n",
    "    # Decoder: U-Net style upsampling with skip connections\n",
    "    up6 = Conv2DTranspose(512, (2, 2), strides=(2, 2), padding='same')(f5)\n",
    "    up6 = concatenate([up6, f4])  # Skip connection\n",
    "    conv6 = Conv2D(512, (3, 3), activation='relu', padding='same')(up6)\n",
    "    conv6 = Conv2D(512, (3, 3), activation='relu', padding='same')(conv6)\n",
    "    \n",
    "    up7 = Conv2DTranspose(256, (2, 2), strides=(2, 2), padding='same')(conv6)\n",
    "    up7 = concatenate([up7, f3])  # Skip connection\n",
    "    conv7 = Conv2D(256, (3, 3), activation='relu', padding='same')(up7)\n",
    "    conv7 = Conv2D(256, (3, 3), activation='relu', padding='same')(conv7)\n",
    "    \n",
    "    up8 = Conv2DTranspose(128, (2, 2), strides=(2, 2), padding='same')(conv7)\n",
    "    up8 = concatenate([up8, f2])  # Skip connection\n",
    "    conv8 = Conv2D(128, (3, 3), activation='relu', padding='same')(up8)\n",
    "    conv8 = Conv2D(128, (3, 3), activation='relu', padding='same')(conv8)\n",
    "    \n",
    "    up9 = Conv2DTranspose(64, (2, 2), strides=(2, 2), padding='same')(conv8)\n",
    "    up9 = concatenate([up9, f1])  # Skip connection\n",
    "    conv9 = Conv2D(64, (3, 3), activation='relu', padding='same')(up9)\n",
    "    conv9 = Conv2D(64, (3, 3), activation='relu', padding='same')(conv9)\n",
    "    \n",
    "    # Final upsampling layer\n",
    "    up10 = UpSampling2D((2, 2))(conv9)\n",
    "    output = Conv2D(num_classes, (1, 1), activation='softmax')(up10)\n",
    "    \n",
    "    # Model\n",
    "    model = Model(inputs=base_model.input, outputs=output)\n",
    "    \n",
    "    return model"
   ]
  },
  {
   "cell_type": "code",
   "execution_count": 6,
   "metadata": {},
   "outputs": [],
   "source": [
    "def dice_loss(y_true, y_pred, smooth=1):\n",
    "    y_true_f = tf.keras.backend.flatten(y_true)\n",
    "    y_pred_f = tf.keras.backend.flatten(y_pred)\n",
    "    intersection = tf.reduce_sum(y_true_f * y_pred_f)\n",
    "    return 1 - ((2. * intersection + smooth) /\n",
    "                (tf.reduce_sum(y_true_f) + tf.reduce_sum(y_pred_f) + smooth))"
   ]
  },
  {
   "cell_type": "code",
   "execution_count": 7,
   "metadata": {},
   "outputs": [],
   "source": [
    "def total_loss(y_true, y_pred):\n",
    "    # Combinaison de Dice Loss et Binary Cross-Entropy\n",
    "    dice = dice_loss(y_true, y_pred)\n",
    "    bce = tf.keras.losses.BinaryCrossentropy()(y_true, y_pred)\n",
    "    return dice + bce"
   ]
  },
  {
   "cell_type": "code",
   "execution_count": 8,
   "metadata": {},
   "outputs": [],
   "source": [
    "import tensorflow as tf\n",
    "\n",
    "def iou_multi_class(y_true, y_pred, num_classes=8):\n",
    "    # Convertir les prédictions en classes\n",
    "    y_pred = tf.argmax(y_pred, axis=-1)  # Prendre l'indice de la classe avec la probabilité maximale\n",
    "    y_pred = tf.expand_dims(y_pred, axis=-1)  # Ajouter une dimension pour le batch\n",
    "\n",
    "    # Calculer l'IoU pour chaque classe\n",
    "    iou_list = []\n",
    "    for i in range(num_classes):\n",
    "        intersection = tf.reduce_sum(tf.cast((y_true == i) & (y_pred == i), tf.float32))\n",
    "        union = tf.reduce_sum(tf.cast(y_true == i, tf.float32)) + tf.reduce_sum(tf.cast(y_pred == i, tf.float32)) - intersection\n",
    "        iou = intersection / (union + tf.keras.backend.epsilon())\n",
    "        iou_list.append(iou)\n",
    "\n",
    "    return tf.reduce_mean(iou_list)  # Retourner la moyenne des IoUs\n"
   ]
  },
  {
   "cell_type": "code",
   "execution_count": 9,
   "metadata": {},
   "outputs": [],
   "source": [
    "def dice_coefficient_multi_class(y_true, y_pred, num_classes=8):\n",
    "    y_pred = tf.argmax(y_pred, axis=-1)\n",
    "    y_pred = tf.expand_dims(y_pred, axis=-1)\n",
    "\n",
    "    dice_list = []\n",
    "    for i in range(num_classes):\n",
    "        intersection = tf.reduce_sum(tf.cast((y_true == i) & (y_pred == i), tf.float32))\n",
    "        dice = (2. * intersection + tf.keras.backend.epsilon()) / (tf.reduce_sum(tf.cast(y_true == i, tf.float32)) + tf.reduce_sum(tf.cast(y_pred == i, tf.float32)) + tf.keras.backend.epsilon())\n",
    "        dice_list.append(dice)\n",
    "\n",
    "    return tf.reduce_mean(dice_list)  # Retourner la moyenne des Dice coefficients\n"
   ]
  },
  {
   "cell_type": "markdown",
   "metadata": {},
   "source": [
    "# IV - Initialisations"
   ]
  },
  {
   "cell_type": "code",
   "execution_count": 10,
   "metadata": {},
   "outputs": [],
   "source": [
    "train_image_list = os.listdir(TRAIN_IMAGE_DIR)\n",
    "train_mask_list = os.listdir(TRAIN_MASK_DIR)\n",
    "val_image_list = os.listdir(VAL_IMAGE_DIR)\n",
    "val_mask_list = os.listdir(VAL_MASK_DIR)\n",
    "id2catid = {label.id : label.categoryId for label in labels}"
   ]
  },
  {
   "cell_type": "markdown",
   "metadata": {},
   "source": [
    "# Code"
   ]
  },
  {
   "cell_type": "code",
   "execution_count": 11,
   "metadata": {},
   "outputs": [
    {
     "name": "stderr",
     "output_type": "stream",
     "text": [
      "2024/10/28 22:04:18 WARNING mlflow.tensorflow: Unrecognized dataset type <class '__main__.ImageMaskGenerator'>. Dataset logging skipped.\n",
      "2024/10/28 22:04:18 WARNING mlflow.tensorflow: Unrecognized dataset type <class '__main__.ImageMaskGenerator'>. Dataset logging skipped.\n"
     ]
    },
    {
     "data": {
      "text/html": [
       "<pre style=\"white-space:pre;overflow-x:auto;line-height:normal;font-family:Menlo,'DejaVu Sans Mono',consolas,'Courier New',monospace\"></pre>\n"
      ],
      "text/plain": []
     },
     "metadata": {},
     "output_type": "display_data"
    },
    {
     "name": "stdout",
     "output_type": "stream",
     "text": [
      "Epoch 1/5\n"
     ]
    },
    {
     "name": "stderr",
     "output_type": "stream",
     "text": [
      "d:\\Formations\\Github\\Projet_08\\.venv\\Lib\\site-packages\\keras\\src\\models\\functional.py:225: UserWarning: The structure of `inputs` doesn't match the expected structure: ['keras_tensor']. Received: the structure of inputs=*\n",
      "  warnings.warn(\n"
     ]
    },
    {
     "name": "stdout",
     "output_type": "stream",
     "text": [
      "\u001b[1m93/93\u001b[0m \u001b[32m━━━━━━━━━━━━━━━━━━━━\u001b[0m\u001b[37m\u001b[0m \u001b[1m0s\u001b[0m 2s/step - accuracy: 0.3965 - dice_coefficient_multi_class: 0.5180 - iou_multi_class: 0.0837 - loss: 1.6587"
     ]
    },
    {
     "name": "stderr",
     "output_type": "stream",
     "text": [
      "WARNING:absl:You are saving your model as an HDF5 file via `model.save()` or `keras.saving.save_model(model)`. This file format is considered legacy. We recommend using instead the native Keras format, e.g. `model.save('my_model.keras')` or `keras.saving.save_model(model, 'my_model.keras')`. \n"
     ]
    },
    {
     "name": "stdout",
     "output_type": "stream",
     "text": [
      "\u001b[1m93/93\u001b[0m \u001b[32m━━━━━━━━━━━━━━━━━━━━\u001b[0m\u001b[37m\u001b[0m \u001b[1m204s\u001b[0m 2s/step - accuracy: 0.3977 - dice_coefficient_multi_class: 0.5176 - iou_multi_class: 0.0837 - loss: 1.6556 - val_accuracy: 0.6561 - val_dice_coefficient_multi_class: 0.3412 - val_iou_multi_class: 0.0630 - val_loss: 0.9822\n",
      "Epoch 2/5\n",
      "\u001b[1m93/93\u001b[0m \u001b[32m━━━━━━━━━━━━━━━━━━━━\u001b[0m\u001b[37m\u001b[0m \u001b[1m0s\u001b[0m 2s/step - accuracy: 0.6903 - dice_coefficient_multi_class: 0.3430 - iou_multi_class: 0.0641 - loss: 0.8937"
     ]
    },
    {
     "name": "stderr",
     "output_type": "stream",
     "text": [
      "WARNING:absl:You are saving your model as an HDF5 file via `model.save()` or `keras.saving.save_model(model)`. This file format is considered legacy. We recommend using instead the native Keras format, e.g. `model.save('my_model.keras')` or `keras.saving.save_model(model, 'my_model.keras')`. \n"
     ]
    },
    {
     "name": "stdout",
     "output_type": "stream",
     "text": [
      "\u001b[1m93/93\u001b[0m \u001b[32m━━━━━━━━━━━━━━━━━━━━\u001b[0m\u001b[37m\u001b[0m \u001b[1m198s\u001b[0m 2s/step - accuracy: 0.6905 - dice_coefficient_multi_class: 0.3430 - iou_multi_class: 0.0641 - loss: 0.8933 - val_accuracy: 0.7057 - val_dice_coefficient_multi_class: 0.3370 - val_iou_multi_class: 0.0582 - val_loss: 0.8766\n",
      "Epoch 3/5\n",
      "\u001b[1m93/93\u001b[0m \u001b[32m━━━━━━━━━━━━━━━━━━━━\u001b[0m\u001b[37m\u001b[0m \u001b[1m0s\u001b[0m 2s/step - accuracy: 0.7522 - dice_coefficient_multi_class: 0.3414 - iou_multi_class: 0.0620 - loss: 0.7460"
     ]
    },
    {
     "name": "stderr",
     "output_type": "stream",
     "text": [
      "WARNING:absl:You are saving your model as an HDF5 file via `model.save()` or `keras.saving.save_model(model)`. This file format is considered legacy. We recommend using instead the native Keras format, e.g. `model.save('my_model.keras')` or `keras.saving.save_model(model, 'my_model.keras')`. \n"
     ]
    },
    {
     "name": "stdout",
     "output_type": "stream",
     "text": [
      "\u001b[1m93/93\u001b[0m \u001b[32m━━━━━━━━━━━━━━━━━━━━\u001b[0m\u001b[37m\u001b[0m \u001b[1m198s\u001b[0m 2s/step - accuracy: 0.7523 - dice_coefficient_multi_class: 0.3414 - iou_multi_class: 0.0620 - loss: 0.7457 - val_accuracy: 0.7736 - val_dice_coefficient_multi_class: 0.3340 - val_iou_multi_class: 0.0622 - val_loss: 0.6994\n",
      "Epoch 4/5\n",
      "\u001b[1m93/93\u001b[0m \u001b[32m━━━━━━━━━━━━━━━━━━━━\u001b[0m\u001b[37m\u001b[0m \u001b[1m0s\u001b[0m 2s/step - accuracy: 0.7858 - dice_coefficient_multi_class: 0.3084 - iou_multi_class: 0.0611 - loss: 0.6617"
     ]
    },
    {
     "name": "stderr",
     "output_type": "stream",
     "text": [
      "WARNING:absl:You are saving your model as an HDF5 file via `model.save()` or `keras.saving.save_model(model)`. This file format is considered legacy. We recommend using instead the native Keras format, e.g. `model.save('my_model.keras')` or `keras.saving.save_model(model, 'my_model.keras')`. \n"
     ]
    },
    {
     "name": "stdout",
     "output_type": "stream",
     "text": [
      "\u001b[1m93/93\u001b[0m \u001b[32m━━━━━━━━━━━━━━━━━━━━\u001b[0m\u001b[37m\u001b[0m \u001b[1m201s\u001b[0m 2s/step - accuracy: 0.7859 - dice_coefficient_multi_class: 0.3085 - iou_multi_class: 0.0611 - loss: 0.6615 - val_accuracy: 0.7935 - val_dice_coefficient_multi_class: 0.2936 - val_iou_multi_class: 0.0604 - val_loss: 0.6344\n",
      "Epoch 5/5\n",
      "\u001b[1m93/93\u001b[0m \u001b[32m━━━━━━━━━━━━━━━━━━━━\u001b[0m\u001b[37m\u001b[0m \u001b[1m0s\u001b[0m 2s/step - accuracy: 0.8024 - dice_coefficient_multi_class: 0.2869 - iou_multi_class: 0.0609 - loss: 0.6120"
     ]
    },
    {
     "name": "stderr",
     "output_type": "stream",
     "text": [
      "WARNING:absl:You are saving your model as an HDF5 file via `model.save()` or `keras.saving.save_model(model)`. This file format is considered legacy. We recommend using instead the native Keras format, e.g. `model.save('my_model.keras')` or `keras.saving.save_model(model, 'my_model.keras')`. \n"
     ]
    },
    {
     "name": "stdout",
     "output_type": "stream",
     "text": [
      "\u001b[1m93/93\u001b[0m \u001b[32m━━━━━━━━━━━━━━━━━━━━\u001b[0m\u001b[37m\u001b[0m \u001b[1m202s\u001b[0m 2s/step - accuracy: 0.8024 - dice_coefficient_multi_class: 0.2869 - iou_multi_class: 0.0609 - loss: 0.6119 - val_accuracy: 0.7978 - val_dice_coefficient_multi_class: 0.2334 - val_iou_multi_class: 0.0625 - val_loss: 0.6301\n"
     ]
    },
    {
     "name": "stderr",
     "output_type": "stream",
     "text": [
      "2024/10/28 22:21:05 WARNING mlflow.tensorflow: Failed to infer model signature: could not sample data to infer model signature: unsupported operand type(s) for *: 'slice' and 'int'\n",
      "2024/10/28 22:21:05 WARNING mlflow.tensorflow: You are saving a TensorFlow Core model or Keras model without a signature. Inference with mlflow.pyfunc.spark_udf() will not work unless the model's pyfunc representation accepts pandas DataFrames as inference inputs.\n",
      "2024/10/28 22:21:10 WARNING mlflow.utils.environment: Encountered an unexpected error while inferring pip requirements (model URI: C:\\Users\\nicyu\\AppData\\Local\\Temp\\tmp_53a_z51\\model, flavor: tensorflow). Fall back to return ['tensorflow==2.18.0', 'cloudpickle==3.1.0']. Set logging level to DEBUG to see the full traceback. \n",
      "2024/10/28 22:21:10 WARNING mlflow.models.model: Model logged without a signature and input example. Please set `input_example` parameter when logging the model to auto infer the model signature.\n",
      "2024/10/28 22:21:10 INFO mlflow.tracking._tracking_service.client: 🏃 View run unet_mini with categorical_crossentropy at: http://127.0.0.1:8080/#/experiments/399004675090485682/runs/8e85429410ac4cfdb88f0179e983d1d8.\n",
      "2024/10/28 22:21:10 INFO mlflow.tracking._tracking_service.client: 🧪 View experiment at: http://127.0.0.1:8080/#/experiments/399004675090485682.\n",
      "2024/10/28 22:21:12 WARNING mlflow.tensorflow: Unrecognized dataset type <class '__main__.ImageMaskGenerator'>. Dataset logging skipped.\n",
      "2024/10/28 22:21:12 WARNING mlflow.tensorflow: Unrecognized dataset type <class '__main__.ImageMaskGenerator'>. Dataset logging skipped.\n"
     ]
    },
    {
     "data": {
      "text/html": [
       "<pre style=\"white-space:pre;overflow-x:auto;line-height:normal;font-family:Menlo,'DejaVu Sans Mono',consolas,'Courier New',monospace\"></pre>\n"
      ],
      "text/plain": []
     },
     "metadata": {},
     "output_type": "display_data"
    },
    {
     "name": "stdout",
     "output_type": "stream",
     "text": [
      "Epoch 1/5\n"
     ]
    },
    {
     "name": "stderr",
     "output_type": "stream",
     "text": [
      "d:\\Formations\\Github\\Projet_08\\.venv\\Lib\\site-packages\\keras\\src\\models\\functional.py:225: UserWarning: The structure of `inputs` doesn't match the expected structure: ['keras_tensor_18']. Received: the structure of inputs=*\n",
      "  warnings.warn(\n"
     ]
    },
    {
     "name": "stdout",
     "output_type": "stream",
     "text": [
      "\u001b[1m93/93\u001b[0m \u001b[32m━━━━━━━━━━━━━━━━━━━━\u001b[0m\u001b[37m\u001b[0m \u001b[1m0s\u001b[0m 2s/step - accuracy: 0.3295 - dice_coefficient_multi_class: 0.7534 - iou_multi_class: 0.1030 - loss: 0.6802"
     ]
    },
    {
     "name": "stderr",
     "output_type": "stream",
     "text": [
      "WARNING:absl:You are saving your model as an HDF5 file via `model.save()` or `keras.saving.save_model(model)`. This file format is considered legacy. We recommend using instead the native Keras format, e.g. `model.save('my_model.keras')` or `keras.saving.save_model(model, 'my_model.keras')`. \n"
     ]
    },
    {
     "name": "stdout",
     "output_type": "stream",
     "text": [
      "\u001b[1m93/93\u001b[0m \u001b[32m━━━━━━━━━━━━━━━━━━━━\u001b[0m\u001b[37m\u001b[0m \u001b[1m204s\u001b[0m 2s/step - accuracy: 0.3300 - dice_coefficient_multi_class: 0.7543 - iou_multi_class: 0.1032 - loss: 0.6796 - val_accuracy: 0.3823 - val_dice_coefficient_multi_class: 0.8750 - val_iou_multi_class: 0.1250 - val_loss: 0.6177\n",
      "Epoch 2/5\n",
      "\u001b[1m93/93\u001b[0m \u001b[32m━━━━━━━━━━━━━━━━━━━━\u001b[0m\u001b[37m\u001b[0m \u001b[1m199s\u001b[0m 2s/step - accuracy: 0.3897 - dice_coefficient_multi_class: 0.8750 - iou_multi_class: 0.1250 - loss: 0.6103 - val_accuracy: 0.3823 - val_dice_coefficient_multi_class: 0.8750 - val_iou_multi_class: 0.1250 - val_loss: 0.6177\n",
      "Epoch 3/5\n",
      "\u001b[1m93/93\u001b[0m \u001b[32m━━━━━━━━━━━━━━━━━━━━\u001b[0m\u001b[37m\u001b[0m \u001b[1m200s\u001b[0m 2s/step - accuracy: 0.3892 - dice_coefficient_multi_class: 0.8750 - iou_multi_class: 0.1250 - loss: 0.6108 - val_accuracy: 0.3823 - val_dice_coefficient_multi_class: 0.8750 - val_iou_multi_class: 0.1250 - val_loss: 0.6177\n",
      "Epoch 4/5\n",
      "\u001b[1m93/93\u001b[0m \u001b[32m━━━━━━━━━━━━━━━━━━━━\u001b[0m\u001b[37m\u001b[0m \u001b[1m201s\u001b[0m 2s/step - accuracy: 0.3903 - dice_coefficient_multi_class: 0.8750 - iou_multi_class: 0.1250 - loss: 0.6097 - val_accuracy: 0.3823 - val_dice_coefficient_multi_class: 0.8750 - val_iou_multi_class: 0.1250 - val_loss: 0.6177\n",
      "Epoch 5/5\n",
      "\u001b[1m93/93\u001b[0m \u001b[32m━━━━━━━━━━━━━━━━━━━━\u001b[0m\u001b[37m\u001b[0m \u001b[1m199s\u001b[0m 2s/step - accuracy: 0.3878 - dice_coefficient_multi_class: 0.8750 - iou_multi_class: 0.1250 - loss: 0.6122 - val_accuracy: 0.3823 - val_dice_coefficient_multi_class: 0.8750 - val_iou_multi_class: 0.1250 - val_loss: 0.6177\n"
     ]
    },
    {
     "name": "stderr",
     "output_type": "stream",
     "text": [
      "2024/10/28 22:37:57 WARNING mlflow.tensorflow: Failed to infer model signature: could not sample data to infer model signature: unsupported operand type(s) for *: 'slice' and 'int'\n",
      "2024/10/28 22:37:57 WARNING mlflow.tensorflow: You are saving a TensorFlow Core model or Keras model without a signature. Inference with mlflow.pyfunc.spark_udf() will not work unless the model's pyfunc representation accepts pandas DataFrames as inference inputs.\n",
      "2024/10/28 22:38:01 WARNING mlflow.utils.environment: Encountered an unexpected error while inferring pip requirements (model URI: C:\\Users\\nicyu\\AppData\\Local\\Temp\\tmpq8l6tv5n\\model, flavor: tensorflow). Fall back to return ['tensorflow==2.18.0', 'cloudpickle==3.1.0']. Set logging level to DEBUG to see the full traceback. \n",
      "2024/10/28 22:38:01 WARNING mlflow.models.model: Model logged without a signature and input example. Please set `input_example` parameter when logging the model to auto infer the model signature.\n",
      "2024/10/28 22:38:01 INFO mlflow.tracking._tracking_service.client: 🏃 View run unet_mini with dice_loss at: http://127.0.0.1:8080/#/experiments/399004675090485682/runs/399db808ec4c4d45b338da9402279223.\n",
      "2024/10/28 22:38:01 INFO mlflow.tracking._tracking_service.client: 🧪 View experiment at: http://127.0.0.1:8080/#/experiments/399004675090485682.\n",
      "2024/10/28 22:38:03 WARNING mlflow.tensorflow: Unrecognized dataset type <class '__main__.ImageMaskGenerator'>. Dataset logging skipped.\n",
      "2024/10/28 22:38:03 WARNING mlflow.tensorflow: Unrecognized dataset type <class '__main__.ImageMaskGenerator'>. Dataset logging skipped.\n"
     ]
    },
    {
     "data": {
      "text/html": [
       "<pre style=\"white-space:pre;overflow-x:auto;line-height:normal;font-family:Menlo,'DejaVu Sans Mono',consolas,'Courier New',monospace\"></pre>\n"
      ],
      "text/plain": []
     },
     "metadata": {},
     "output_type": "display_data"
    },
    {
     "name": "stdout",
     "output_type": "stream",
     "text": [
      "Epoch 1/5\n"
     ]
    },
    {
     "name": "stderr",
     "output_type": "stream",
     "text": [
      "d:\\Formations\\Github\\Projet_08\\.venv\\Lib\\site-packages\\keras\\src\\models\\functional.py:225: UserWarning: The structure of `inputs` doesn't match the expected structure: ['keras_tensor_36']. Received: the structure of inputs=*\n",
      "  warnings.warn(\n"
     ]
    },
    {
     "name": "stdout",
     "output_type": "stream",
     "text": [
      "\u001b[1m93/93\u001b[0m \u001b[32m━━━━━━━━━━━━━━━━━━━━\u001b[0m\u001b[37m\u001b[0m \u001b[1m0s\u001b[0m 2s/step - accuracy: 0.3683 - dice_coefficient_multi_class: 0.6754 - iou_multi_class: 0.1075 - loss: 1.1685"
     ]
    },
    {
     "name": "stderr",
     "output_type": "stream",
     "text": [
      "WARNING:absl:You are saving your model as an HDF5 file via `model.save()` or `keras.saving.save_model(model)`. This file format is considered legacy. We recommend using instead the native Keras format, e.g. `model.save('my_model.keras')` or `keras.saving.save_model(model, 'my_model.keras')`. \n"
     ]
    },
    {
     "name": "stdout",
     "output_type": "stream",
     "text": [
      "\u001b[1m93/93\u001b[0m \u001b[32m━━━━━━━━━━━━━━━━━━━━\u001b[0m\u001b[37m\u001b[0m \u001b[1m207s\u001b[0m 2s/step - accuracy: 0.3691 - dice_coefficient_multi_class: 0.6755 - iou_multi_class: 0.1074 - loss: 1.1663 - val_accuracy: 0.5862 - val_dice_coefficient_multi_class: 0.6022 - val_iou_multi_class: 0.0737 - val_loss: 0.6893\n",
      "Epoch 2/5\n",
      "\u001b[1m93/93\u001b[0m \u001b[32m━━━━━━━━━━━━━━━━━━━━\u001b[0m\u001b[37m\u001b[0m \u001b[1m0s\u001b[0m 2s/step - accuracy: 0.6446 - dice_coefficient_multi_class: 0.5079 - iou_multi_class: 0.0668 - loss: 0.6097"
     ]
    },
    {
     "name": "stderr",
     "output_type": "stream",
     "text": [
      "WARNING:absl:You are saving your model as an HDF5 file via `model.save()` or `keras.saving.save_model(model)`. This file format is considered legacy. We recommend using instead the native Keras format, e.g. `model.save('my_model.keras')` or `keras.saving.save_model(model, 'my_model.keras')`. \n"
     ]
    },
    {
     "name": "stdout",
     "output_type": "stream",
     "text": [
      "\u001b[1m93/93\u001b[0m \u001b[32m━━━━━━━━━━━━━━━━━━━━\u001b[0m\u001b[37m\u001b[0m \u001b[1m202s\u001b[0m 2s/step - accuracy: 0.6449 - dice_coefficient_multi_class: 0.5076 - iou_multi_class: 0.0668 - loss: 0.6093 - val_accuracy: 0.6925 - val_dice_coefficient_multi_class: 0.4716 - val_iou_multi_class: 0.0680 - val_loss: 0.5304\n",
      "Epoch 3/5\n",
      "\u001b[1m93/93\u001b[0m \u001b[32m━━━━━━━━━━━━━━━━━━━━\u001b[0m\u001b[37m\u001b[0m \u001b[1m0s\u001b[0m 2s/step - accuracy: 0.7220 - dice_coefficient_multi_class: 0.4198 - iou_multi_class: 0.0649 - loss: 0.4823"
     ]
    },
    {
     "name": "stderr",
     "output_type": "stream",
     "text": [
      "WARNING:absl:You are saving your model as an HDF5 file via `model.save()` or `keras.saving.save_model(model)`. This file format is considered legacy. We recommend using instead the native Keras format, e.g. `model.save('my_model.keras')` or `keras.saving.save_model(model, 'my_model.keras')`. \n"
     ]
    },
    {
     "name": "stdout",
     "output_type": "stream",
     "text": [
      "\u001b[1m93/93\u001b[0m \u001b[32m━━━━━━━━━━━━━━━━━━━━\u001b[0m\u001b[37m\u001b[0m \u001b[1m202s\u001b[0m 2s/step - accuracy: 0.7221 - dice_coefficient_multi_class: 0.4193 - iou_multi_class: 0.0649 - loss: 0.4820 - val_accuracy: 0.7500 - val_dice_coefficient_multi_class: 0.3405 - val_iou_multi_class: 0.0621 - val_loss: 0.4322\n",
      "Epoch 4/5\n",
      "\u001b[1m93/93\u001b[0m \u001b[32m━━━━━━━━━━━━━━━━━━━━\u001b[0m\u001b[37m\u001b[0m \u001b[1m0s\u001b[0m 2s/step - accuracy: 0.7726 - dice_coefficient_multi_class: 0.3396 - iou_multi_class: 0.0628 - loss: 0.3977"
     ]
    },
    {
     "name": "stderr",
     "output_type": "stream",
     "text": [
      "WARNING:absl:You are saving your model as an HDF5 file via `model.save()` or `keras.saving.save_model(model)`. This file format is considered legacy. We recommend using instead the native Keras format, e.g. `model.save('my_model.keras')` or `keras.saving.save_model(model, 'my_model.keras')`. \n"
     ]
    },
    {
     "name": "stdout",
     "output_type": "stream",
     "text": [
      "\u001b[1m93/93\u001b[0m \u001b[32m━━━━━━━━━━━━━━━━━━━━\u001b[0m\u001b[37m\u001b[0m \u001b[1m204s\u001b[0m 2s/step - accuracy: 0.7728 - dice_coefficient_multi_class: 0.3396 - iou_multi_class: 0.0628 - loss: 0.3975 - val_accuracy: 0.7701 - val_dice_coefficient_multi_class: 0.3341 - val_iou_multi_class: 0.0630 - val_loss: 0.4064\n",
      "Epoch 5/5\n",
      "\u001b[1m93/93\u001b[0m \u001b[32m━━━━━━━━━━━━━━━━━━━━\u001b[0m\u001b[37m\u001b[0m \u001b[1m0s\u001b[0m 2s/step - accuracy: 0.8038 - dice_coefficient_multi_class: 0.3368 - iou_multi_class: 0.0610 - loss: 0.3487"
     ]
    },
    {
     "name": "stderr",
     "output_type": "stream",
     "text": [
      "WARNING:absl:You are saving your model as an HDF5 file via `model.save()` or `keras.saving.save_model(model)`. This file format is considered legacy. We recommend using instead the native Keras format, e.g. `model.save('my_model.keras')` or `keras.saving.save_model(model, 'my_model.keras')`. \n"
     ]
    },
    {
     "name": "stdout",
     "output_type": "stream",
     "text": [
      "\u001b[1m93/93\u001b[0m \u001b[32m━━━━━━━━━━━━━━━━━━━━\u001b[0m\u001b[37m\u001b[0m \u001b[1m204s\u001b[0m 2s/step - accuracy: 0.8039 - dice_coefficient_multi_class: 0.3368 - iou_multi_class: 0.0610 - loss: 0.3486 - val_accuracy: 0.8006 - val_dice_coefficient_multi_class: 0.3410 - val_iou_multi_class: 0.0614 - val_loss: 0.3552\n"
     ]
    },
    {
     "name": "stderr",
     "output_type": "stream",
     "text": [
      "2024/10/28 22:55:06 WARNING mlflow.tensorflow: Failed to infer model signature: could not sample data to infer model signature: unsupported operand type(s) for *: 'slice' and 'int'\n",
      "2024/10/28 22:55:06 WARNING mlflow.tensorflow: You are saving a TensorFlow Core model or Keras model without a signature. Inference with mlflow.pyfunc.spark_udf() will not work unless the model's pyfunc representation accepts pandas DataFrames as inference inputs.\n",
      "2024/10/28 22:55:09 WARNING mlflow.utils.environment: Encountered an unexpected error while inferring pip requirements (model URI: C:\\Users\\nicyu\\AppData\\Local\\Temp\\tmp0maorb02\\model, flavor: tensorflow). Fall back to return ['tensorflow==2.18.0', 'cloudpickle==3.1.0']. Set logging level to DEBUG to see the full traceback. \n",
      "2024/10/28 22:55:09 WARNING mlflow.models.model: Model logged without a signature and input example. Please set `input_example` parameter when logging the model to auto infer the model signature.\n",
      "2024/10/28 22:55:10 INFO mlflow.tracking._tracking_service.client: 🏃 View run unet_mini with total_loss at: http://127.0.0.1:8080/#/experiments/399004675090485682/runs/ba11ba1b563648e9a0f79e5ce2446495.\n",
      "2024/10/28 22:55:10 INFO mlflow.tracking._tracking_service.client: 🧪 View experiment at: http://127.0.0.1:8080/#/experiments/399004675090485682.\n",
      "2024/10/28 22:55:11 WARNING mlflow.tensorflow: Unrecognized dataset type <class '__main__.ImageMaskGenerator'>. Dataset logging skipped.\n",
      "2024/10/28 22:55:11 WARNING mlflow.tensorflow: Unrecognized dataset type <class '__main__.ImageMaskGenerator'>. Dataset logging skipped.\n"
     ]
    },
    {
     "data": {
      "text/html": [
       "<pre style=\"white-space:pre;overflow-x:auto;line-height:normal;font-family:Menlo,'DejaVu Sans Mono',consolas,'Courier New',monospace\"></pre>\n"
      ],
      "text/plain": []
     },
     "metadata": {},
     "output_type": "display_data"
    },
    {
     "name": "stdout",
     "output_type": "stream",
     "text": [
      "Epoch 1/5\n",
      "\u001b[1m93/93\u001b[0m \u001b[32m━━━━━━━━━━━━━━━━━━━━\u001b[0m\u001b[37m\u001b[0m \u001b[1m0s\u001b[0m 2s/step - accuracy: 0.5028 - dice_coefficient_multi_class: 0.2123 - iou_multi_class: 0.0669 - loss: 1.5925"
     ]
    },
    {
     "name": "stderr",
     "output_type": "stream",
     "text": [
      "WARNING:absl:You are saving your model as an HDF5 file via `model.save()` or `keras.saving.save_model(model)`. This file format is considered legacy. We recommend using instead the native Keras format, e.g. `model.save('my_model.keras')` or `keras.saving.save_model(model, 'my_model.keras')`. \n"
     ]
    },
    {
     "name": "stdout",
     "output_type": "stream",
     "text": [
      "\u001b[1m93/93\u001b[0m \u001b[32m━━━━━━━━━━━━━━━━━━━━\u001b[0m\u001b[37m\u001b[0m \u001b[1m218s\u001b[0m 2s/step - accuracy: 0.5043 - dice_coefficient_multi_class: 0.2124 - iou_multi_class: 0.0668 - loss: 1.5870 - val_accuracy: 0.7511 - val_dice_coefficient_multi_class: 0.2261 - val_iou_multi_class: 0.0643 - val_loss: 0.7403\n",
      "Epoch 2/5\n",
      "\u001b[1m93/93\u001b[0m \u001b[32m━━━━━━━━━━━━━━━━━━━━\u001b[0m\u001b[37m\u001b[0m \u001b[1m0s\u001b[0m 2s/step - accuracy: 0.8008 - dice_coefficient_multi_class: 0.1680 - iou_multi_class: 0.0616 - loss: 0.6171"
     ]
    },
    {
     "name": "stderr",
     "output_type": "stream",
     "text": [
      "WARNING:absl:You are saving your model as an HDF5 file via `model.save()` or `keras.saving.save_model(model)`. This file format is considered legacy. We recommend using instead the native Keras format, e.g. `model.save('my_model.keras')` or `keras.saving.save_model(model, 'my_model.keras')`. \n"
     ]
    },
    {
     "name": "stdout",
     "output_type": "stream",
     "text": [
      "\u001b[1m93/93\u001b[0m \u001b[32m━━━━━━━━━━━━━━━━━━━━\u001b[0m\u001b[37m\u001b[0m \u001b[1m210s\u001b[0m 2s/step - accuracy: 0.8009 - dice_coefficient_multi_class: 0.1679 - iou_multi_class: 0.0616 - loss: 0.6168 - val_accuracy: 0.8153 - val_dice_coefficient_multi_class: 0.1084 - val_iou_multi_class: 0.0625 - val_loss: 0.5774\n",
      "Epoch 3/5\n",
      "\u001b[1m93/93\u001b[0m \u001b[32m━━━━━━━━━━━━━━━━━━━━\u001b[0m\u001b[37m\u001b[0m \u001b[1m0s\u001b[0m 2s/step - accuracy: 0.8359 - dice_coefficient_multi_class: 0.1018 - iou_multi_class: 0.0614 - loss: 0.5129"
     ]
    },
    {
     "name": "stderr",
     "output_type": "stream",
     "text": [
      "WARNING:absl:You are saving your model as an HDF5 file via `model.save()` or `keras.saving.save_model(model)`. This file format is considered legacy. We recommend using instead the native Keras format, e.g. `model.save('my_model.keras')` or `keras.saving.save_model(model, 'my_model.keras')`. \n"
     ]
    },
    {
     "name": "stdout",
     "output_type": "stream",
     "text": [
      "\u001b[1m93/93\u001b[0m \u001b[32m━━━━━━━━━━━━━━━━━━━━\u001b[0m\u001b[37m\u001b[0m \u001b[1m207s\u001b[0m 2s/step - accuracy: 0.8359 - dice_coefficient_multi_class: 0.1019 - iou_multi_class: 0.0614 - loss: 0.5129 - val_accuracy: 0.8135 - val_dice_coefficient_multi_class: 0.1150 - val_iou_multi_class: 0.0617 - val_loss: 0.5691\n",
      "Epoch 4/5\n",
      "\u001b[1m93/93\u001b[0m \u001b[32m━━━━━━━━━━━━━━━━━━━━\u001b[0m\u001b[37m\u001b[0m \u001b[1m0s\u001b[0m 2s/step - accuracy: 0.8451 - dice_coefficient_multi_class: 0.1159 - iou_multi_class: 0.0611 - loss: 0.4756"
     ]
    },
    {
     "name": "stderr",
     "output_type": "stream",
     "text": [
      "WARNING:absl:You are saving your model as an HDF5 file via `model.save()` or `keras.saving.save_model(model)`. This file format is considered legacy. We recommend using instead the native Keras format, e.g. `model.save('my_model.keras')` or `keras.saving.save_model(model, 'my_model.keras')`. \n"
     ]
    },
    {
     "name": "stdout",
     "output_type": "stream",
     "text": [
      "\u001b[1m93/93\u001b[0m \u001b[32m━━━━━━━━━━━━━━━━━━━━\u001b[0m\u001b[37m\u001b[0m \u001b[1m204s\u001b[0m 2s/step - accuracy: 0.8452 - dice_coefficient_multi_class: 0.1158 - iou_multi_class: 0.0611 - loss: 0.4756 - val_accuracy: 0.8382 - val_dice_coefficient_multi_class: 0.0925 - val_iou_multi_class: 0.0617 - val_loss: 0.4940\n",
      "Epoch 5/5\n",
      "\u001b[1m93/93\u001b[0m \u001b[32m━━━━━━━━━━━━━━━━━━━━\u001b[0m\u001b[37m\u001b[0m \u001b[1m202s\u001b[0m 2s/step - accuracy: 0.8547 - dice_coefficient_multi_class: 0.0975 - iou_multi_class: 0.0610 - loss: 0.4421 - val_accuracy: 0.8400 - val_dice_coefficient_multi_class: 0.0926 - val_iou_multi_class: 0.0619 - val_loss: 0.4943\n"
     ]
    },
    {
     "name": "stderr",
     "output_type": "stream",
     "text": [
      "2024/10/28 23:12:36 WARNING mlflow.tensorflow: Failed to infer model signature: could not sample data to infer model signature: unsupported operand type(s) for *: 'slice' and 'int'\n",
      "2024/10/28 23:12:36 WARNING mlflow.tensorflow: You are saving a TensorFlow Core model or Keras model without a signature. Inference with mlflow.pyfunc.spark_udf() will not work unless the model's pyfunc representation accepts pandas DataFrames as inference inputs.\n",
      "2024/10/28 23:12:39 WARNING mlflow.utils.environment: Encountered an unexpected error while inferring pip requirements (model URI: C:\\Users\\nicyu\\AppData\\Local\\Temp\\tmpl7arva9c\\model, flavor: tensorflow). Fall back to return ['tensorflow==2.18.0', 'cloudpickle==3.1.0']. Set logging level to DEBUG to see the full traceback. \n",
      "2024/10/28 23:12:39 WARNING mlflow.models.model: Model logged without a signature and input example. Please set `input_example` parameter when logging the model to auto infer the model signature.\n",
      "2024/10/28 23:12:41 INFO mlflow.tracking._tracking_service.client: 🏃 View run unet_vgg16 with categorical_crossentropy at: http://127.0.0.1:8080/#/experiments/399004675090485682/runs/091e1a5ec0754aa3935d74b1b7148ea9.\n",
      "2024/10/28 23:12:41 INFO mlflow.tracking._tracking_service.client: 🧪 View experiment at: http://127.0.0.1:8080/#/experiments/399004675090485682.\n",
      "2024/10/28 23:12:43 WARNING mlflow.tensorflow: Unrecognized dataset type <class '__main__.ImageMaskGenerator'>. Dataset logging skipped.\n",
      "2024/10/28 23:12:43 WARNING mlflow.tensorflow: Unrecognized dataset type <class '__main__.ImageMaskGenerator'>. Dataset logging skipped.\n"
     ]
    },
    {
     "data": {
      "text/html": [
       "<pre style=\"white-space:pre;overflow-x:auto;line-height:normal;font-family:Menlo,'DejaVu Sans Mono',consolas,'Courier New',monospace\"></pre>\n"
      ],
      "text/plain": []
     },
     "metadata": {},
     "output_type": "display_data"
    },
    {
     "name": "stdout",
     "output_type": "stream",
     "text": [
      "Epoch 1/5\n",
      "\u001b[1m93/93\u001b[0m \u001b[32m━━━━━━━━━━━━━━━━━━━━\u001b[0m\u001b[37m\u001b[0m \u001b[1m0s\u001b[0m 2s/step - accuracy: 0.3897 - dice_coefficient_multi_class: 0.7028 - iou_multi_class: 0.1163 - loss: 0.6106"
     ]
    },
    {
     "name": "stderr",
     "output_type": "stream",
     "text": [
      "WARNING:absl:You are saving your model as an HDF5 file via `model.save()` or `keras.saving.save_model(model)`. This file format is considered legacy. We recommend using instead the native Keras format, e.g. `model.save('my_model.keras')` or `keras.saving.save_model(model, 'my_model.keras')`. \n"
     ]
    },
    {
     "name": "stdout",
     "output_type": "stream",
     "text": [
      "\u001b[1m93/93\u001b[0m \u001b[32m━━━━━━━━━━━━━━━━━━━━\u001b[0m\u001b[37m\u001b[0m \u001b[1m208s\u001b[0m 2s/step - accuracy: 0.3903 - dice_coefficient_multi_class: 0.7031 - iou_multi_class: 0.1163 - loss: 0.6099 - val_accuracy: 0.5595 - val_dice_coefficient_multi_class: 0.7092 - val_iou_multi_class: 0.0611 - val_loss: 0.4405\n",
      "Epoch 2/5\n",
      "\u001b[1m93/93\u001b[0m \u001b[32m━━━━━━━━━━━━━━━━━━━━\u001b[0m\u001b[37m\u001b[0m \u001b[1m202s\u001b[0m 2s/step - accuracy: 0.4955 - dice_coefficient_multi_class: 0.7050 - iou_multi_class: 0.0641 - loss: 0.5045 - val_accuracy: 0.2059 - val_dice_coefficient_multi_class: 0.6250 - val_iou_multi_class: 0.0000e+00 - val_loss: 0.7941\n",
      "Epoch 3/5\n",
      "\u001b[1m93/93\u001b[0m \u001b[32m━━━━━━━━━━━━━━━━━━━━\u001b[0m\u001b[37m\u001b[0m \u001b[1m202s\u001b[0m 2s/step - accuracy: 0.2165 - dice_coefficient_multi_class: 0.6250 - iou_multi_class: 0.0000e+00 - loss: 0.7835 - val_accuracy: 0.2059 - val_dice_coefficient_multi_class: 0.6250 - val_iou_multi_class: 0.0000e+00 - val_loss: 0.7941\n",
      "Epoch 4/5\n",
      "\u001b[1m93/93\u001b[0m \u001b[32m━━━━━━━━━━━━━━━━━━━━\u001b[0m\u001b[37m\u001b[0m \u001b[1m202s\u001b[0m 2s/step - accuracy: 0.2210 - dice_coefficient_multi_class: 0.6250 - iou_multi_class: 0.0000e+00 - loss: 0.7790 - val_accuracy: 0.2059 - val_dice_coefficient_multi_class: 0.6250 - val_iou_multi_class: 0.0000e+00 - val_loss: 0.7941\n",
      "Epoch 5/5\n",
      "\u001b[1m93/93\u001b[0m \u001b[32m━━━━━━━━━━━━━━━━━━━━\u001b[0m\u001b[37m\u001b[0m \u001b[1m202s\u001b[0m 2s/step - accuracy: 0.2206 - dice_coefficient_multi_class: 0.6250 - iou_multi_class: 0.0000e+00 - loss: 0.7794 - val_accuracy: 0.2059 - val_dice_coefficient_multi_class: 0.6250 - val_iou_multi_class: 0.0000e+00 - val_loss: 0.7941\n"
     ]
    },
    {
     "name": "stderr",
     "output_type": "stream",
     "text": [
      "2024/10/28 23:29:42 WARNING mlflow.tensorflow: Failed to infer model signature: could not sample data to infer model signature: unsupported operand type(s) for *: 'slice' and 'int'\n",
      "2024/10/28 23:29:42 WARNING mlflow.tensorflow: You are saving a TensorFlow Core model or Keras model without a signature. Inference with mlflow.pyfunc.spark_udf() will not work unless the model's pyfunc representation accepts pandas DataFrames as inference inputs.\n",
      "2024/10/28 23:29:46 WARNING mlflow.utils.environment: Encountered an unexpected error while inferring pip requirements (model URI: C:\\Users\\nicyu\\AppData\\Local\\Temp\\tmp6vnk91c1\\model, flavor: tensorflow). Fall back to return ['tensorflow==2.18.0', 'cloudpickle==3.1.0']. Set logging level to DEBUG to see the full traceback. \n",
      "2024/10/28 23:29:46 WARNING mlflow.models.model: Model logged without a signature and input example. Please set `input_example` parameter when logging the model to auto infer the model signature.\n",
      "2024/10/28 23:29:47 INFO mlflow.tracking._tracking_service.client: 🏃 View run unet_vgg16 with dice_loss at: http://127.0.0.1:8080/#/experiments/399004675090485682/runs/843e1e4f61e64914b257e0496f6018c8.\n",
      "2024/10/28 23:29:47 INFO mlflow.tracking._tracking_service.client: 🧪 View experiment at: http://127.0.0.1:8080/#/experiments/399004675090485682.\n",
      "2024/10/28 23:29:49 WARNING mlflow.tensorflow: Unrecognized dataset type <class '__main__.ImageMaskGenerator'>. Dataset logging skipped.\n",
      "2024/10/28 23:29:49 WARNING mlflow.tensorflow: Unrecognized dataset type <class '__main__.ImageMaskGenerator'>. Dataset logging skipped.\n"
     ]
    },
    {
     "data": {
      "text/html": [
       "<pre style=\"white-space:pre;overflow-x:auto;line-height:normal;font-family:Menlo,'DejaVu Sans Mono',consolas,'Courier New',monospace\"></pre>\n"
      ],
      "text/plain": []
     },
     "metadata": {},
     "output_type": "display_data"
    },
    {
     "name": "stdout",
     "output_type": "stream",
     "text": [
      "Epoch 1/5\n",
      "\u001b[1m93/93\u001b[0m \u001b[32m━━━━━━━━━━━━━━━━━━━━\u001b[0m\u001b[37m\u001b[0m \u001b[1m0s\u001b[0m 2s/step - accuracy: 0.5558 - dice_coefficient_multi_class: 0.3505 - iou_multi_class: 0.0702 - loss: 0.7656"
     ]
    },
    {
     "name": "stderr",
     "output_type": "stream",
     "text": [
      "WARNING:absl:You are saving your model as an HDF5 file via `model.save()` or `keras.saving.save_model(model)`. This file format is considered legacy. We recommend using instead the native Keras format, e.g. `model.save('my_model.keras')` or `keras.saving.save_model(model, 'my_model.keras')`. \n"
     ]
    },
    {
     "name": "stdout",
     "output_type": "stream",
     "text": [
      "\u001b[1m93/93\u001b[0m \u001b[32m━━━━━━━━━━━━━━━━━━━━\u001b[0m\u001b[37m\u001b[0m \u001b[1m211s\u001b[0m 2s/step - accuracy: 0.5571 - dice_coefficient_multi_class: 0.3504 - iou_multi_class: 0.0701 - loss: 0.7635 - val_accuracy: 0.7924 - val_dice_coefficient_multi_class: 0.3422 - val_iou_multi_class: 0.0616 - val_loss: 0.3724\n",
      "Epoch 2/5\n",
      "\u001b[1m93/93\u001b[0m \u001b[32m━━━━━━━━━━━━━━━━━━━━\u001b[0m\u001b[37m\u001b[0m \u001b[1m0s\u001b[0m 2s/step - accuracy: 0.8154 - dice_coefficient_multi_class: 0.3403 - iou_multi_class: 0.0619 - loss: 0.3326"
     ]
    },
    {
     "name": "stderr",
     "output_type": "stream",
     "text": [
      "WARNING:absl:You are saving your model as an HDF5 file via `model.save()` or `keras.saving.save_model(model)`. This file format is considered legacy. We recommend using instead the native Keras format, e.g. `model.save('my_model.keras')` or `keras.saving.save_model(model, 'my_model.keras')`. \n"
     ]
    },
    {
     "name": "stdout",
     "output_type": "stream",
     "text": [
      "\u001b[1m93/93\u001b[0m \u001b[32m━━━━━━━━━━━━━━━━━━━━\u001b[0m\u001b[37m\u001b[0m \u001b[1m205s\u001b[0m 2s/step - accuracy: 0.8154 - dice_coefficient_multi_class: 0.3403 - iou_multi_class: 0.0619 - loss: 0.3324 - val_accuracy: 0.8140 - val_dice_coefficient_multi_class: 0.2977 - val_iou_multi_class: 0.0644 - val_loss: 0.3297\n",
      "Epoch 3/5\n",
      "\u001b[1m93/93\u001b[0m \u001b[32m━━━━━━━━━━━━━━━━━━━━\u001b[0m\u001b[37m\u001b[0m \u001b[1m0s\u001b[0m 2s/step - accuracy: 0.8418 - dice_coefficient_multi_class: 0.2934 - iou_multi_class: 0.0617 - loss: 0.2827"
     ]
    },
    {
     "name": "stderr",
     "output_type": "stream",
     "text": [
      "WARNING:absl:You are saving your model as an HDF5 file via `model.save()` or `keras.saving.save_model(model)`. This file format is considered legacy. We recommend using instead the native Keras format, e.g. `model.save('my_model.keras')` or `keras.saving.save_model(model, 'my_model.keras')`. \n"
     ]
    },
    {
     "name": "stdout",
     "output_type": "stream",
     "text": [
      "\u001b[1m93/93\u001b[0m \u001b[32m━━━━━━━━━━━━━━━━━━━━\u001b[0m\u001b[37m\u001b[0m \u001b[1m205s\u001b[0m 2s/step - accuracy: 0.8419 - dice_coefficient_multi_class: 0.2931 - iou_multi_class: 0.0617 - loss: 0.2826 - val_accuracy: 0.8354 - val_dice_coefficient_multi_class: 0.2198 - val_iou_multi_class: 0.0641 - val_loss: 0.2948\n",
      "Epoch 4/5\n",
      "\u001b[1m93/93\u001b[0m \u001b[32m━━━━━━━━━━━━━━━━━━━━\u001b[0m\u001b[37m\u001b[0m \u001b[1m0s\u001b[0m 2s/step - accuracy: 0.8562 - dice_coefficient_multi_class: 0.2202 - iou_multi_class: 0.0616 - loss: 0.2568"
     ]
    },
    {
     "name": "stderr",
     "output_type": "stream",
     "text": [
      "WARNING:absl:You are saving your model as an HDF5 file via `model.save()` or `keras.saving.save_model(model)`. This file format is considered legacy. We recommend using instead the native Keras format, e.g. `model.save('my_model.keras')` or `keras.saving.save_model(model, 'my_model.keras')`. \n"
     ]
    },
    {
     "name": "stdout",
     "output_type": "stream",
     "text": [
      "\u001b[1m93/93\u001b[0m \u001b[32m━━━━━━━━━━━━━━━━━━━━\u001b[0m\u001b[37m\u001b[0m \u001b[1m205s\u001b[0m 2s/step - accuracy: 0.8562 - dice_coefficient_multi_class: 0.2202 - iou_multi_class: 0.0616 - loss: 0.2567 - val_accuracy: 0.8380 - val_dice_coefficient_multi_class: 0.2192 - val_iou_multi_class: 0.0638 - val_loss: 0.2887\n",
      "Epoch 5/5\n",
      "\u001b[1m93/93\u001b[0m \u001b[32m━━━━━━━━━━━━━━━━━━━━\u001b[0m\u001b[37m\u001b[0m \u001b[1m0s\u001b[0m 2s/step - accuracy: 0.8654 - dice_coefficient_multi_class: 0.2153 - iou_multi_class: 0.0614 - loss: 0.2401"
     ]
    },
    {
     "name": "stderr",
     "output_type": "stream",
     "text": [
      "WARNING:absl:You are saving your model as an HDF5 file via `model.save()` or `keras.saving.save_model(model)`. This file format is considered legacy. We recommend using instead the native Keras format, e.g. `model.save('my_model.keras')` or `keras.saving.save_model(model, 'my_model.keras')`. \n"
     ]
    },
    {
     "name": "stdout",
     "output_type": "stream",
     "text": [
      "\u001b[1m93/93\u001b[0m \u001b[32m━━━━━━━━━━━━━━━━━━━━\u001b[0m\u001b[37m\u001b[0m \u001b[1m205s\u001b[0m 2s/step - accuracy: 0.8654 - dice_coefficient_multi_class: 0.2153 - iou_multi_class: 0.0614 - loss: 0.2401 - val_accuracy: 0.8433 - val_dice_coefficient_multi_class: 0.2188 - val_iou_multi_class: 0.0635 - val_loss: 0.2790\n"
     ]
    },
    {
     "name": "stderr",
     "output_type": "stream",
     "text": [
      "2024/10/28 23:47:03 WARNING mlflow.tensorflow: Failed to infer model signature: could not sample data to infer model signature: unsupported operand type(s) for *: 'slice' and 'int'\n",
      "2024/10/28 23:47:03 WARNING mlflow.tensorflow: You are saving a TensorFlow Core model or Keras model without a signature. Inference with mlflow.pyfunc.spark_udf() will not work unless the model's pyfunc representation accepts pandas DataFrames as inference inputs.\n",
      "2024/10/28 23:47:06 WARNING mlflow.utils.environment: Encountered an unexpected error while inferring pip requirements (model URI: C:\\Users\\nicyu\\AppData\\Local\\Temp\\tmpailz6in7\\model, flavor: tensorflow). Fall back to return ['tensorflow==2.18.0', 'cloudpickle==3.1.0']. Set logging level to DEBUG to see the full traceback. \n",
      "2024/10/28 23:47:06 WARNING mlflow.models.model: Model logged without a signature and input example. Please set `input_example` parameter when logging the model to auto infer the model signature.\n",
      "2024/10/28 23:47:07 INFO mlflow.tracking._tracking_service.client: 🏃 View run unet_vgg16 with total_loss at: http://127.0.0.1:8080/#/experiments/399004675090485682/runs/83f7ce16bf2f48a198603e3d3c07ed50.\n",
      "2024/10/28 23:47:07 INFO mlflow.tracking._tracking_service.client: 🧪 View experiment at: http://127.0.0.1:8080/#/experiments/399004675090485682.\n",
      "2024/10/28 23:47:09 WARNING mlflow.tensorflow: Unrecognized dataset type <class '__main__.ImageMaskGenerator'>. Dataset logging skipped.\n",
      "2024/10/28 23:47:09 WARNING mlflow.tensorflow: Unrecognized dataset type <class '__main__.ImageMaskGenerator'>. Dataset logging skipped.\n"
     ]
    },
    {
     "data": {
      "text/html": [
       "<pre style=\"white-space:pre;overflow-x:auto;line-height:normal;font-family:Menlo,'DejaVu Sans Mono',consolas,'Courier New',monospace\"></pre>\n"
      ],
      "text/plain": []
     },
     "metadata": {},
     "output_type": "display_data"
    },
    {
     "name": "stdout",
     "output_type": "stream",
     "text": [
      "Epoch 1/5\n"
     ]
    },
    {
     "name": "stderr",
     "output_type": "stream",
     "text": [
      "d:\\Formations\\Github\\Projet_08\\.venv\\Lib\\site-packages\\keras\\src\\models\\functional.py:225: UserWarning: The structure of `inputs` doesn't match the expected structure: ['keras_tensor_165']. Received: the structure of inputs=*\n",
      "  warnings.warn(\n"
     ]
    },
    {
     "name": "stdout",
     "output_type": "stream",
     "text": [
      "\u001b[1m93/93\u001b[0m \u001b[32m━━━━━━━━━━━━━━━━━━━━\u001b[0m\u001b[37m\u001b[0m \u001b[1m0s\u001b[0m 2s/step - accuracy: 0.3049 - dice_coefficient_multi_class: 0.4689 - iou_multi_class: 0.0830 - loss: 1.7862"
     ]
    },
    {
     "name": "stderr",
     "output_type": "stream",
     "text": [
      "WARNING:absl:You are saving your model as an HDF5 file via `model.save()` or `keras.saving.save_model(model)`. This file format is considered legacy. We recommend using instead the native Keras format, e.g. `model.save('my_model.keras')` or `keras.saving.save_model(model, 'my_model.keras')`. \n"
     ]
    },
    {
     "name": "stdout",
     "output_type": "stream",
     "text": [
      "\u001b[1m93/93\u001b[0m \u001b[32m━━━━━━━━━━━━━━━━━━━━\u001b[0m\u001b[37m\u001b[0m \u001b[1m197s\u001b[0m 2s/step - accuracy: 0.3058 - dice_coefficient_multi_class: 0.4694 - iou_multi_class: 0.0832 - loss: 1.7845 - val_accuracy: 0.5173 - val_dice_coefficient_multi_class: 0.3256 - val_iou_multi_class: 0.0474 - val_loss: 1.3384\n",
      "Epoch 2/5\n",
      "\u001b[1m93/93\u001b[0m \u001b[32m━━━━━━━━━━━━━━━━━━━━\u001b[0m\u001b[37m\u001b[0m \u001b[1m0s\u001b[0m 2s/step - accuracy: 0.5422 - dice_coefficient_multi_class: 0.4346 - iou_multi_class: 0.0669 - loss: 1.2325"
     ]
    },
    {
     "name": "stderr",
     "output_type": "stream",
     "text": [
      "WARNING:absl:You are saving your model as an HDF5 file via `model.save()` or `keras.saving.save_model(model)`. This file format is considered legacy. We recommend using instead the native Keras format, e.g. `model.save('my_model.keras')` or `keras.saving.save_model(model, 'my_model.keras')`. \n"
     ]
    },
    {
     "name": "stdout",
     "output_type": "stream",
     "text": [
      "\u001b[1m93/93\u001b[0m \u001b[32m━━━━━━━━━━━━━━━━━━━━\u001b[0m\u001b[37m\u001b[0m \u001b[1m191s\u001b[0m 2s/step - accuracy: 0.5426 - dice_coefficient_multi_class: 0.4343 - iou_multi_class: 0.0670 - loss: 1.2319 - val_accuracy: 0.6741 - val_dice_coefficient_multi_class: 0.3432 - val_iou_multi_class: 0.0654 - val_loss: 0.9439\n",
      "Epoch 3/5\n",
      "\u001b[1m93/93\u001b[0m \u001b[32m━━━━━━━━━━━━━━━━━━━━\u001b[0m\u001b[37m\u001b[0m \u001b[1m0s\u001b[0m 2s/step - accuracy: 0.6255 - dice_coefficient_multi_class: 0.3502 - iou_multi_class: 0.0731 - loss: 1.0428"
     ]
    },
    {
     "name": "stderr",
     "output_type": "stream",
     "text": [
      "WARNING:absl:You are saving your model as an HDF5 file via `model.save()` or `keras.saving.save_model(model)`. This file format is considered legacy. We recommend using instead the native Keras format, e.g. `model.save('my_model.keras')` or `keras.saving.save_model(model, 'my_model.keras')`. \n"
     ]
    },
    {
     "name": "stdout",
     "output_type": "stream",
     "text": [
      "\u001b[1m93/93\u001b[0m \u001b[32m━━━━━━━━━━━━━━━━━━━━\u001b[0m\u001b[37m\u001b[0m \u001b[1m194s\u001b[0m 2s/step - accuracy: 0.6256 - dice_coefficient_multi_class: 0.3502 - iou_multi_class: 0.0731 - loss: 1.0425 - val_accuracy: 0.6977 - val_dice_coefficient_multi_class: 0.3342 - val_iou_multi_class: 0.0544 - val_loss: 0.9081\n",
      "Epoch 4/5\n",
      "\u001b[1m93/93\u001b[0m \u001b[32m━━━━━━━━━━━━━━━━━━━━\u001b[0m\u001b[37m\u001b[0m \u001b[1m0s\u001b[0m 2s/step - accuracy: 0.6645 - dice_coefficient_multi_class: 0.3410 - iou_multi_class: 0.0710 - loss: 0.9540"
     ]
    },
    {
     "name": "stderr",
     "output_type": "stream",
     "text": [
      "WARNING:absl:You are saving your model as an HDF5 file via `model.save()` or `keras.saving.save_model(model)`. This file format is considered legacy. We recommend using instead the native Keras format, e.g. `model.save('my_model.keras')` or `keras.saving.save_model(model, 'my_model.keras')`. \n"
     ]
    },
    {
     "name": "stdout",
     "output_type": "stream",
     "text": [
      "\u001b[1m93/93\u001b[0m \u001b[32m━━━━━━━━━━━━━━━━━━━━\u001b[0m\u001b[37m\u001b[0m \u001b[1m195s\u001b[0m 2s/step - accuracy: 0.6645 - dice_coefficient_multi_class: 0.3409 - iou_multi_class: 0.0710 - loss: 0.9539 - val_accuracy: 0.7467 - val_dice_coefficient_multi_class: 0.3413 - val_iou_multi_class: 0.0611 - val_loss: 0.7688\n",
      "Epoch 5/5\n",
      "\u001b[1m93/93\u001b[0m \u001b[32m━━━━━━━━━━━━━━━━━━━━\u001b[0m\u001b[37m\u001b[0m \u001b[1m0s\u001b[0m 2s/step - accuracy: 0.6821 - dice_coefficient_multi_class: 0.3482 - iou_multi_class: 0.0708 - loss: 0.9102"
     ]
    },
    {
     "name": "stderr",
     "output_type": "stream",
     "text": [
      "WARNING:absl:You are saving your model as an HDF5 file via `model.save()` or `keras.saving.save_model(model)`. This file format is considered legacy. We recommend using instead the native Keras format, e.g. `model.save('my_model.keras')` or `keras.saving.save_model(model, 'my_model.keras')`. \n"
     ]
    },
    {
     "name": "stdout",
     "output_type": "stream",
     "text": [
      "\u001b[1m93/93\u001b[0m \u001b[32m━━━━━━━━━━━━━━━━━━━━\u001b[0m\u001b[37m\u001b[0m \u001b[1m194s\u001b[0m 2s/step - accuracy: 0.6821 - dice_coefficient_multi_class: 0.3482 - iou_multi_class: 0.0708 - loss: 0.9101 - val_accuracy: 0.7530 - val_dice_coefficient_multi_class: 0.2976 - val_iou_multi_class: 0.0563 - val_loss: 0.7537\n"
     ]
    },
    {
     "name": "stderr",
     "output_type": "stream",
     "text": [
      "2024/10/29 00:03:23 WARNING mlflow.tensorflow: Failed to infer model signature: could not sample data to infer model signature: unsupported operand type(s) for *: 'slice' and 'int'\n",
      "2024/10/29 00:03:23 WARNING mlflow.tensorflow: You are saving a TensorFlow Core model or Keras model without a signature. Inference with mlflow.pyfunc.spark_udf() will not work unless the model's pyfunc representation accepts pandas DataFrames as inference inputs.\n",
      "2024/10/29 00:03:26 WARNING mlflow.utils.environment: Encountered an unexpected error while inferring pip requirements (model URI: C:\\Users\\nicyu\\AppData\\Local\\Temp\\tmpnur3zekp\\model, flavor: tensorflow). Fall back to return ['tensorflow==2.18.0', 'cloudpickle==3.1.0']. Set logging level to DEBUG to see the full traceback. \n",
      "2024/10/29 00:03:26 WARNING mlflow.models.model: Model logged without a signature and input example. Please set `input_example` parameter when logging the model to auto infer the model signature.\n",
      "2024/10/29 00:03:27 INFO mlflow.tracking._tracking_service.client: 🏃 View run unet_mini Augmented with categorical_crossentropy at: http://127.0.0.1:8080/#/experiments/399004675090485682/runs/54fb37de80a948c9bb1c443a3f67d879.\n",
      "2024/10/29 00:03:27 INFO mlflow.tracking._tracking_service.client: 🧪 View experiment at: http://127.0.0.1:8080/#/experiments/399004675090485682.\n",
      "2024/10/29 00:03:29 WARNING mlflow.tensorflow: Unrecognized dataset type <class '__main__.ImageMaskGenerator'>. Dataset logging skipped.\n",
      "2024/10/29 00:03:29 WARNING mlflow.tensorflow: Unrecognized dataset type <class '__main__.ImageMaskGenerator'>. Dataset logging skipped.\n"
     ]
    },
    {
     "data": {
      "text/html": [
       "<pre style=\"white-space:pre;overflow-x:auto;line-height:normal;font-family:Menlo,'DejaVu Sans Mono',consolas,'Courier New',monospace\"></pre>\n"
      ],
      "text/plain": []
     },
     "metadata": {},
     "output_type": "display_data"
    },
    {
     "name": "stdout",
     "output_type": "stream",
     "text": [
      "Epoch 1/5\n"
     ]
    },
    {
     "name": "stderr",
     "output_type": "stream",
     "text": [
      "d:\\Formations\\Github\\Projet_08\\.venv\\Lib\\site-packages\\keras\\src\\models\\functional.py:225: UserWarning: The structure of `inputs` doesn't match the expected structure: ['keras_tensor_183']. Received: the structure of inputs=*\n",
      "  warnings.warn(\n"
     ]
    },
    {
     "name": "stdout",
     "output_type": "stream",
     "text": [
      "\u001b[1m93/93\u001b[0m \u001b[32m━━━━━━━━━━━━━━━━━━━━\u001b[0m\u001b[37m\u001b[0m \u001b[1m0s\u001b[0m 2s/step - accuracy: 0.3358 - dice_coefficient_multi_class: 0.7376 - iou_multi_class: 0.1042 - loss: 0.6884"
     ]
    },
    {
     "name": "stderr",
     "output_type": "stream",
     "text": [
      "WARNING:absl:You are saving your model as an HDF5 file via `model.save()` or `keras.saving.save_model(model)`. This file format is considered legacy. We recommend using instead the native Keras format, e.g. `model.save('my_model.keras')` or `keras.saving.save_model(model, 'my_model.keras')`. \n"
     ]
    },
    {
     "name": "stdout",
     "output_type": "stream",
     "text": [
      "\u001b[1m93/93\u001b[0m \u001b[32m━━━━━━━━━━━━━━━━━━━━\u001b[0m\u001b[37m\u001b[0m \u001b[1m197s\u001b[0m 2s/step - accuracy: 0.3363 - dice_coefficient_multi_class: 0.7386 - iou_multi_class: 0.1043 - loss: 0.6879 - val_accuracy: 0.3823 - val_dice_coefficient_multi_class: 0.8750 - val_iou_multi_class: 0.1250 - val_loss: 0.6177\n",
      "Epoch 2/5\n",
      "\u001b[1m93/93\u001b[0m \u001b[32m━━━━━━━━━━━━━━━━━━━━\u001b[0m\u001b[37m\u001b[0m \u001b[1m192s\u001b[0m 2s/step - accuracy: 0.3863 - dice_coefficient_multi_class: 0.8750 - iou_multi_class: 0.1250 - loss: 0.6137 - val_accuracy: 0.3823 - val_dice_coefficient_multi_class: 0.8750 - val_iou_multi_class: 0.1250 - val_loss: 0.6177\n",
      "Epoch 3/5\n",
      "\u001b[1m93/93\u001b[0m \u001b[32m━━━━━━━━━━━━━━━━━━━━\u001b[0m\u001b[37m\u001b[0m \u001b[1m28260s\u001b[0m 307s/step - accuracy: 0.3883 - dice_coefficient_multi_class: 0.8750 - iou_multi_class: 0.1250 - loss: 0.6117 - val_accuracy: 0.3823 - val_dice_coefficient_multi_class: 0.8750 - val_iou_multi_class: 0.1250 - val_loss: 0.6177\n",
      "Epoch 4/5\n",
      "\u001b[1m93/93\u001b[0m \u001b[32m━━━━━━━━━━━━━━━━━━━━\u001b[0m\u001b[37m\u001b[0m \u001b[1m199s\u001b[0m 2s/step - accuracy: 0.3862 - dice_coefficient_multi_class: 0.8750 - iou_multi_class: 0.1250 - loss: 0.6138 - val_accuracy: 0.3823 - val_dice_coefficient_multi_class: 0.8750 - val_iou_multi_class: 0.1250 - val_loss: 0.6177\n",
      "Epoch 5/5\n",
      "\u001b[1m93/93\u001b[0m \u001b[32m━━━━━━━━━━━━━━━━━━━━\u001b[0m\u001b[37m\u001b[0m \u001b[1m198s\u001b[0m 2s/step - accuracy: 0.3858 - dice_coefficient_multi_class: 0.8750 - iou_multi_class: 0.1250 - loss: 0.6142 - val_accuracy: 0.3823 - val_dice_coefficient_multi_class: 0.8750 - val_iou_multi_class: 0.1250 - val_loss: 0.6177\n"
     ]
    },
    {
     "name": "stderr",
     "output_type": "stream",
     "text": [
      "2024/10/29 08:07:37 WARNING mlflow.tensorflow: Failed to infer model signature: could not sample data to infer model signature: unsupported operand type(s) for *: 'slice' and 'int'\n",
      "2024/10/29 08:07:37 WARNING mlflow.tensorflow: You are saving a TensorFlow Core model or Keras model without a signature. Inference with mlflow.pyfunc.spark_udf() will not work unless the model's pyfunc representation accepts pandas DataFrames as inference inputs.\n",
      "2024/10/29 08:07:41 WARNING mlflow.utils.environment: Encountered an unexpected error while inferring pip requirements (model URI: C:\\Users\\nicyu\\AppData\\Local\\Temp\\tmp5cyzwkgf\\model, flavor: tensorflow). Fall back to return ['tensorflow==2.18.0', 'cloudpickle==3.1.0']. Set logging level to DEBUG to see the full traceback. \n",
      "2024/10/29 08:07:41 WARNING mlflow.models.model: Model logged without a signature and input example. Please set `input_example` parameter when logging the model to auto infer the model signature.\n",
      "2024/10/29 08:07:41 INFO mlflow.tracking._tracking_service.client: 🏃 View run unet_mini Augmented with dice_loss at: http://127.0.0.1:8080/#/experiments/399004675090485682/runs/305be465daf543e58f8157400855aa9e.\n",
      "2024/10/29 08:07:41 INFO mlflow.tracking._tracking_service.client: 🧪 View experiment at: http://127.0.0.1:8080/#/experiments/399004675090485682.\n",
      "2024/10/29 08:07:43 WARNING mlflow.tensorflow: Unrecognized dataset type <class '__main__.ImageMaskGenerator'>. Dataset logging skipped.\n",
      "2024/10/29 08:07:43 WARNING mlflow.tensorflow: Unrecognized dataset type <class '__main__.ImageMaskGenerator'>. Dataset logging skipped.\n"
     ]
    },
    {
     "data": {
      "text/html": [
       "<pre style=\"white-space:pre;overflow-x:auto;line-height:normal;font-family:Menlo,'DejaVu Sans Mono',consolas,'Courier New',monospace\"></pre>\n"
      ],
      "text/plain": []
     },
     "metadata": {},
     "output_type": "display_data"
    },
    {
     "name": "stdout",
     "output_type": "stream",
     "text": [
      "Epoch 1/5\n"
     ]
    },
    {
     "name": "stderr",
     "output_type": "stream",
     "text": [
      "d:\\Formations\\Github\\Projet_08\\.venv\\Lib\\site-packages\\keras\\src\\models\\functional.py:225: UserWarning: The structure of `inputs` doesn't match the expected structure: ['keras_tensor_201']. Received: the structure of inputs=*\n",
      "  warnings.warn(\n"
     ]
    },
    {
     "name": "stdout",
     "output_type": "stream",
     "text": [
      "\u001b[1m93/93\u001b[0m \u001b[32m━━━━━━━━━━━━━━━━━━━━\u001b[0m\u001b[37m\u001b[0m \u001b[1m0s\u001b[0m 2s/step - accuracy: 0.3837 - dice_coefficient_multi_class: 0.5757 - iou_multi_class: 0.1100 - loss: 1.1635"
     ]
    },
    {
     "name": "stderr",
     "output_type": "stream",
     "text": [
      "WARNING:absl:You are saving your model as an HDF5 file via `model.save()` or `keras.saving.save_model(model)`. This file format is considered legacy. We recommend using instead the native Keras format, e.g. `model.save('my_model.keras')` or `keras.saving.save_model(model, 'my_model.keras')`. \n"
     ]
    },
    {
     "name": "stdout",
     "output_type": "stream",
     "text": [
      "\u001b[1m93/93\u001b[0m \u001b[32m━━━━━━━━━━━━━━━━━━━━\u001b[0m\u001b[37m\u001b[0m \u001b[1m206s\u001b[0m 2s/step - accuracy: 0.3843 - dice_coefficient_multi_class: 0.5765 - iou_multi_class: 0.1099 - loss: 1.1614 - val_accuracy: 0.5539 - val_dice_coefficient_multi_class: 0.5841 - val_iou_multi_class: 0.0612 - val_loss: 0.7110\n",
      "Epoch 2/5\n",
      "\u001b[1m93/93\u001b[0m \u001b[32m━━━━━━━━━━━━━━━━━━━━\u001b[0m\u001b[37m\u001b[0m \u001b[1m0s\u001b[0m 2s/step - accuracy: 0.5800 - dice_coefficient_multi_class: 0.5546 - iou_multi_class: 0.0731 - loss: 0.7051"
     ]
    },
    {
     "name": "stderr",
     "output_type": "stream",
     "text": [
      "WARNING:absl:You are saving your model as an HDF5 file via `model.save()` or `keras.saving.save_model(model)`. This file format is considered legacy. We recommend using instead the native Keras format, e.g. `model.save('my_model.keras')` or `keras.saving.save_model(model, 'my_model.keras')`. \n"
     ]
    },
    {
     "name": "stdout",
     "output_type": "stream",
     "text": [
      "\u001b[1m93/93\u001b[0m \u001b[32m━━━━━━━━━━━━━━━━━━━━\u001b[0m\u001b[37m\u001b[0m \u001b[1m202s\u001b[0m 2s/step - accuracy: 0.5802 - dice_coefficient_multi_class: 0.5541 - iou_multi_class: 0.0731 - loss: 0.7048 - val_accuracy: 0.7018 - val_dice_coefficient_multi_class: 0.4702 - val_iou_multi_class: 0.0650 - val_loss: 0.5101\n",
      "Epoch 3/5\n",
      "\u001b[1m93/93\u001b[0m \u001b[32m━━━━━━━━━━━━━━━━━━━━\u001b[0m\u001b[37m\u001b[0m \u001b[1m0s\u001b[0m 2s/step - accuracy: 0.6437 - dice_coefficient_multi_class: 0.4676 - iou_multi_class: 0.0739 - loss: 0.6008"
     ]
    },
    {
     "name": "stderr",
     "output_type": "stream",
     "text": [
      "WARNING:absl:You are saving your model as an HDF5 file via `model.save()` or `keras.saving.save_model(model)`. This file format is considered legacy. We recommend using instead the native Keras format, e.g. `model.save('my_model.keras')` or `keras.saving.save_model(model, 'my_model.keras')`. \n"
     ]
    },
    {
     "name": "stdout",
     "output_type": "stream",
     "text": [
      "\u001b[1m93/93\u001b[0m \u001b[32m━━━━━━━━━━━━━━━━━━━━\u001b[0m\u001b[37m\u001b[0m \u001b[1m204s\u001b[0m 2s/step - accuracy: 0.6438 - dice_coefficient_multi_class: 0.4674 - iou_multi_class: 0.0739 - loss: 0.6006 - val_accuracy: 0.7456 - val_dice_coefficient_multi_class: 0.3454 - val_iou_multi_class: 0.0672 - val_loss: 0.4377\n",
      "Epoch 4/5\n",
      "\u001b[1m93/93\u001b[0m \u001b[32m━━━━━━━━━━━━━━━━━━━━\u001b[0m\u001b[37m\u001b[0m \u001b[1m0s\u001b[0m 2s/step - accuracy: 0.6768 - dice_coefficient_multi_class: 0.3490 - iou_multi_class: 0.0715 - loss: 0.5511"
     ]
    },
    {
     "name": "stderr",
     "output_type": "stream",
     "text": [
      "WARNING:absl:You are saving your model as an HDF5 file via `model.save()` or `keras.saving.save_model(model)`. This file format is considered legacy. We recommend using instead the native Keras format, e.g. `model.save('my_model.keras')` or `keras.saving.save_model(model, 'my_model.keras')`. \n"
     ]
    },
    {
     "name": "stdout",
     "output_type": "stream",
     "text": [
      "\u001b[1m93/93\u001b[0m \u001b[32m━━━━━━━━━━━━━━━━━━━━\u001b[0m\u001b[37m\u001b[0m \u001b[1m201s\u001b[0m 2s/step - accuracy: 0.6768 - dice_coefficient_multi_class: 0.3490 - iou_multi_class: 0.0715 - loss: 0.5510 - val_accuracy: 0.7712 - val_dice_coefficient_multi_class: 0.3374 - val_iou_multi_class: 0.0583 - val_loss: 0.4079\n",
      "Epoch 5/5\n",
      "\u001b[1m93/93\u001b[0m \u001b[32m━━━━━━━━━━━━━━━━━━━━\u001b[0m\u001b[37m\u001b[0m \u001b[1m0s\u001b[0m 2s/step - accuracy: 0.7085 - dice_coefficient_multi_class: 0.3476 - iou_multi_class: 0.0698 - loss: 0.5011"
     ]
    },
    {
     "name": "stderr",
     "output_type": "stream",
     "text": [
      "WARNING:absl:You are saving your model as an HDF5 file via `model.save()` or `keras.saving.save_model(model)`. This file format is considered legacy. We recommend using instead the native Keras format, e.g. `model.save('my_model.keras')` or `keras.saving.save_model(model, 'my_model.keras')`. \n"
     ]
    },
    {
     "name": "stdout",
     "output_type": "stream",
     "text": [
      "\u001b[1m93/93\u001b[0m \u001b[32m━━━━━━━━━━━━━━━━━━━━\u001b[0m\u001b[37m\u001b[0m \u001b[1m200s\u001b[0m 2s/step - accuracy: 0.7085 - dice_coefficient_multi_class: 0.3476 - iou_multi_class: 0.0698 - loss: 0.5011 - val_accuracy: 0.7744 - val_dice_coefficient_multi_class: 0.3366 - val_iou_multi_class: 0.0580 - val_loss: 0.4006\n"
     ]
    },
    {
     "name": "stderr",
     "output_type": "stream",
     "text": [
      "2024/10/29 08:24:39 WARNING mlflow.tensorflow: Failed to infer model signature: could not sample data to infer model signature: unsupported operand type(s) for *: 'slice' and 'int'\n",
      "2024/10/29 08:24:39 WARNING mlflow.tensorflow: You are saving a TensorFlow Core model or Keras model without a signature. Inference with mlflow.pyfunc.spark_udf() will not work unless the model's pyfunc representation accepts pandas DataFrames as inference inputs.\n",
      "2024/10/29 08:24:42 WARNING mlflow.utils.environment: Encountered an unexpected error while inferring pip requirements (model URI: C:\\Users\\nicyu\\AppData\\Local\\Temp\\tmp2u3_g_26\\model, flavor: tensorflow). Fall back to return ['tensorflow==2.18.0', 'cloudpickle==3.1.0']. Set logging level to DEBUG to see the full traceback. \n",
      "2024/10/29 08:24:42 WARNING mlflow.models.model: Model logged without a signature and input example. Please set `input_example` parameter when logging the model to auto infer the model signature.\n",
      "2024/10/29 08:24:43 INFO mlflow.tracking._tracking_service.client: 🏃 View run unet_mini Augmented with total_loss at: http://127.0.0.1:8080/#/experiments/399004675090485682/runs/1bd9339e1e27427aab37b9feb935d701.\n",
      "2024/10/29 08:24:43 INFO mlflow.tracking._tracking_service.client: 🧪 View experiment at: http://127.0.0.1:8080/#/experiments/399004675090485682.\n",
      "2024/10/29 08:24:45 WARNING mlflow.tensorflow: Unrecognized dataset type <class '__main__.ImageMaskGenerator'>. Dataset logging skipped.\n",
      "2024/10/29 08:24:45 WARNING mlflow.tensorflow: Unrecognized dataset type <class '__main__.ImageMaskGenerator'>. Dataset logging skipped.\n"
     ]
    },
    {
     "data": {
      "text/html": [
       "<pre style=\"white-space:pre;overflow-x:auto;line-height:normal;font-family:Menlo,'DejaVu Sans Mono',consolas,'Courier New',monospace\"></pre>\n"
      ],
      "text/plain": []
     },
     "metadata": {},
     "output_type": "display_data"
    },
    {
     "name": "stdout",
     "output_type": "stream",
     "text": [
      "Epoch 1/5\n",
      "\u001b[1m93/93\u001b[0m \u001b[32m━━━━━━━━━━━━━━━━━━━━\u001b[0m\u001b[37m\u001b[0m \u001b[1m0s\u001b[0m 2s/step - accuracy: 0.4611 - dice_coefficient_multi_class: 0.3050 - iou_multi_class: 0.0701 - loss: 1.6538"
     ]
    },
    {
     "name": "stderr",
     "output_type": "stream",
     "text": [
      "WARNING:absl:You are saving your model as an HDF5 file via `model.save()` or `keras.saving.save_model(model)`. This file format is considered legacy. We recommend using instead the native Keras format, e.g. `model.save('my_model.keras')` or `keras.saving.save_model(model, 'my_model.keras')`. \n"
     ]
    },
    {
     "name": "stdout",
     "output_type": "stream",
     "text": [
      "\u001b[1m93/93\u001b[0m \u001b[32m━━━━━━━━━━━━━━━━━━━━\u001b[0m\u001b[37m\u001b[0m \u001b[1m219s\u001b[0m 2s/step - accuracy: 0.4625 - dice_coefficient_multi_class: 0.3051 - iou_multi_class: 0.0701 - loss: 1.6489 - val_accuracy: 0.7365 - val_dice_coefficient_multi_class: 0.2964 - val_iou_multi_class: 0.0582 - val_loss: 0.7886\n",
      "Epoch 2/5\n",
      "\u001b[1m93/93\u001b[0m \u001b[32m━━━━━━━━━━━━━━━━━━━━\u001b[0m\u001b[37m\u001b[0m \u001b[1m0s\u001b[0m 2s/step - accuracy: 0.7281 - dice_coefficient_multi_class: 0.2148 - iou_multi_class: 0.0617 - loss: 0.7905"
     ]
    },
    {
     "name": "stderr",
     "output_type": "stream",
     "text": [
      "WARNING:absl:You are saving your model as an HDF5 file via `model.save()` or `keras.saving.save_model(model)`. This file format is considered legacy. We recommend using instead the native Keras format, e.g. `model.save('my_model.keras')` or `keras.saving.save_model(model, 'my_model.keras')`. \n"
     ]
    },
    {
     "name": "stdout",
     "output_type": "stream",
     "text": [
      "\u001b[1m93/93\u001b[0m \u001b[32m━━━━━━━━━━━━━━━━━━━━\u001b[0m\u001b[37m\u001b[0m \u001b[1m209s\u001b[0m 2s/step - accuracy: 0.7282 - dice_coefficient_multi_class: 0.2145 - iou_multi_class: 0.0617 - loss: 0.7901 - val_accuracy: 0.7935 - val_dice_coefficient_multi_class: 0.1903 - val_iou_multi_class: 0.0585 - val_loss: 0.6199\n",
      "Epoch 3/5\n",
      "\u001b[1m93/93\u001b[0m \u001b[32m━━━━━━━━━━━━━━━━━━━━\u001b[0m\u001b[37m\u001b[0m \u001b[1m0s\u001b[0m 2s/step - accuracy: 0.7522 - dice_coefficient_multi_class: 0.1922 - iou_multi_class: 0.0615 - loss: 0.7150"
     ]
    },
    {
     "name": "stderr",
     "output_type": "stream",
     "text": [
      "WARNING:absl:You are saving your model as an HDF5 file via `model.save()` or `keras.saving.save_model(model)`. This file format is considered legacy. We recommend using instead the native Keras format, e.g. `model.save('my_model.keras')` or `keras.saving.save_model(model, 'my_model.keras')`. \n"
     ]
    },
    {
     "name": "stdout",
     "output_type": "stream",
     "text": [
      "\u001b[1m93/93\u001b[0m \u001b[32m━━━━━━━━━━━━━━━━━━━━\u001b[0m\u001b[37m\u001b[0m \u001b[1m210s\u001b[0m 2s/step - accuracy: 0.7523 - dice_coefficient_multi_class: 0.1922 - iou_multi_class: 0.0615 - loss: 0.7148 - val_accuracy: 0.8074 - val_dice_coefficient_multi_class: 0.0977 - val_iou_multi_class: 0.0603 - val_loss: 0.5748\n",
      "Epoch 4/5\n",
      "\u001b[1m93/93\u001b[0m \u001b[32m━━━━━━━━━━━━━━━━━━━━\u001b[0m\u001b[37m\u001b[0m \u001b[1m0s\u001b[0m 2s/step - accuracy: 0.7671 - dice_coefficient_multi_class: 0.1185 - iou_multi_class: 0.0613 - loss: 0.6713"
     ]
    },
    {
     "name": "stderr",
     "output_type": "stream",
     "text": [
      "WARNING:absl:You are saving your model as an HDF5 file via `model.save()` or `keras.saving.save_model(model)`. This file format is considered legacy. We recommend using instead the native Keras format, e.g. `model.save('my_model.keras')` or `keras.saving.save_model(model, 'my_model.keras')`. \n"
     ]
    },
    {
     "name": "stdout",
     "output_type": "stream",
     "text": [
      "\u001b[1m93/93\u001b[0m \u001b[32m━━━━━━━━━━━━━━━━━━━━\u001b[0m\u001b[37m\u001b[0m \u001b[1m210s\u001b[0m 2s/step - accuracy: 0.7671 - dice_coefficient_multi_class: 0.1185 - iou_multi_class: 0.0613 - loss: 0.6712 - val_accuracy: 0.8190 - val_dice_coefficient_multi_class: 0.0988 - val_iou_multi_class: 0.0610 - val_loss: 0.5395\n",
      "Epoch 5/5\n",
      "\u001b[1m93/93\u001b[0m \u001b[32m━━━━━━━━━━━━━━━━━━━━\u001b[0m\u001b[37m\u001b[0m \u001b[1m0s\u001b[0m 2s/step - accuracy: 0.7878 - dice_coefficient_multi_class: 0.1067 - iou_multi_class: 0.0612 - loss: 0.6171"
     ]
    },
    {
     "name": "stderr",
     "output_type": "stream",
     "text": [
      "WARNING:absl:You are saving your model as an HDF5 file via `model.save()` or `keras.saving.save_model(model)`. This file format is considered legacy. We recommend using instead the native Keras format, e.g. `model.save('my_model.keras')` or `keras.saving.save_model(model, 'my_model.keras')`. \n"
     ]
    },
    {
     "name": "stdout",
     "output_type": "stream",
     "text": [
      "\u001b[1m93/93\u001b[0m \u001b[32m━━━━━━━━━━━━━━━━━━━━\u001b[0m\u001b[37m\u001b[0m \u001b[1m210s\u001b[0m 2s/step - accuracy: 0.7877 - dice_coefficient_multi_class: 0.1067 - iou_multi_class: 0.0612 - loss: 0.6172 - val_accuracy: 0.8243 - val_dice_coefficient_multi_class: 0.0928 - val_iou_multi_class: 0.0624 - val_loss: 0.5303\n"
     ]
    },
    {
     "name": "stderr",
     "output_type": "stream",
     "text": [
      "2024/10/29 08:42:26 WARNING mlflow.tensorflow: Failed to infer model signature: could not sample data to infer model signature: unsupported operand type(s) for *: 'slice' and 'int'\n",
      "2024/10/29 08:42:26 WARNING mlflow.tensorflow: You are saving a TensorFlow Core model or Keras model without a signature. Inference with mlflow.pyfunc.spark_udf() will not work unless the model's pyfunc representation accepts pandas DataFrames as inference inputs.\n",
      "2024/10/29 08:42:30 WARNING mlflow.utils.environment: Encountered an unexpected error while inferring pip requirements (model URI: C:\\Users\\nicyu\\AppData\\Local\\Temp\\tmpl6df26gz\\model, flavor: tensorflow). Fall back to return ['tensorflow==2.18.0', 'cloudpickle==3.1.0']. Set logging level to DEBUG to see the full traceback. \n",
      "2024/10/29 08:42:30 WARNING mlflow.models.model: Model logged without a signature and input example. Please set `input_example` parameter when logging the model to auto infer the model signature.\n",
      "2024/10/29 08:42:31 INFO mlflow.tracking._tracking_service.client: 🏃 View run unet_vgg16 Augmented with categorical_crossentropy at: http://127.0.0.1:8080/#/experiments/399004675090485682/runs/499b6b84260a4ee1bb74e8ac039e4b9f.\n",
      "2024/10/29 08:42:31 INFO mlflow.tracking._tracking_service.client: 🧪 View experiment at: http://127.0.0.1:8080/#/experiments/399004675090485682.\n",
      "2024/10/29 08:42:33 WARNING mlflow.tensorflow: Unrecognized dataset type <class '__main__.ImageMaskGenerator'>. Dataset logging skipped.\n",
      "2024/10/29 08:42:33 WARNING mlflow.tensorflow: Unrecognized dataset type <class '__main__.ImageMaskGenerator'>. Dataset logging skipped.\n"
     ]
    },
    {
     "data": {
      "text/html": [
       "<pre style=\"white-space:pre;overflow-x:auto;line-height:normal;font-family:Menlo,'DejaVu Sans Mono',consolas,'Courier New',monospace\"></pre>\n"
      ],
      "text/plain": []
     },
     "metadata": {},
     "output_type": "display_data"
    },
    {
     "name": "stdout",
     "output_type": "stream",
     "text": [
      "Epoch 1/5\n",
      "\u001b[1m93/93\u001b[0m \u001b[32m━━━━━━━━━━━━━━━━━━━━\u001b[0m\u001b[37m\u001b[0m \u001b[1m0s\u001b[0m 2s/step - accuracy: 0.3666 - dice_coefficient_multi_class: 0.7816 - iou_multi_class: 0.1173 - loss: 0.6321"
     ]
    },
    {
     "name": "stderr",
     "output_type": "stream",
     "text": [
      "WARNING:absl:You are saving your model as an HDF5 file via `model.save()` or `keras.saving.save_model(model)`. This file format is considered legacy. We recommend using instead the native Keras format, e.g. `model.save('my_model.keras')` or `keras.saving.save_model(model, 'my_model.keras')`. \n"
     ]
    },
    {
     "name": "stdout",
     "output_type": "stream",
     "text": [
      "\u001b[1m93/93\u001b[0m \u001b[32m━━━━━━━━━━━━━━━━━━━━\u001b[0m\u001b[37m\u001b[0m \u001b[1m216s\u001b[0m 2s/step - accuracy: 0.3668 - dice_coefficient_multi_class: 0.7823 - iou_multi_class: 0.1174 - loss: 0.6320 - val_accuracy: 0.3823 - val_dice_coefficient_multi_class: 0.8750 - val_iou_multi_class: 0.1250 - val_loss: 0.6177\n",
      "Epoch 2/5\n",
      "\u001b[1m93/93\u001b[0m \u001b[32m━━━━━━━━━━━━━━━━━━━━\u001b[0m\u001b[37m\u001b[0m \u001b[1m208s\u001b[0m 2s/step - accuracy: 0.3879 - dice_coefficient_multi_class: 0.8750 - iou_multi_class: 0.1250 - loss: 0.6121 - val_accuracy: 0.3823 - val_dice_coefficient_multi_class: 0.8750 - val_iou_multi_class: 0.1250 - val_loss: 0.6177\n",
      "Epoch 3/5\n",
      "\u001b[1m93/93\u001b[0m \u001b[32m━━━━━━━━━━━━━━━━━━━━\u001b[0m\u001b[37m\u001b[0m \u001b[1m209s\u001b[0m 2s/step - accuracy: 0.3869 - dice_coefficient_multi_class: 0.8750 - iou_multi_class: 0.1250 - loss: 0.6131 - val_accuracy: 0.3823 - val_dice_coefficient_multi_class: 0.8750 - val_iou_multi_class: 0.1250 - val_loss: 0.6177\n",
      "Epoch 4/5\n",
      "\u001b[1m93/93\u001b[0m \u001b[32m━━━━━━━━━━━━━━━━━━━━\u001b[0m\u001b[37m\u001b[0m \u001b[1m210s\u001b[0m 2s/step - accuracy: 0.3876 - dice_coefficient_multi_class: 0.8750 - iou_multi_class: 0.1250 - loss: 0.6124 - val_accuracy: 0.3823 - val_dice_coefficient_multi_class: 0.8750 - val_iou_multi_class: 0.1250 - val_loss: 0.6177\n",
      "Epoch 5/5\n",
      "\u001b[1m93/93\u001b[0m \u001b[32m━━━━━━━━━━━━━━━━━━━━\u001b[0m\u001b[37m\u001b[0m \u001b[1m210s\u001b[0m 2s/step - accuracy: 0.3877 - dice_coefficient_multi_class: 0.8750 - iou_multi_class: 0.1250 - loss: 0.6123 - val_accuracy: 0.3823 - val_dice_coefficient_multi_class: 0.8750 - val_iou_multi_class: 0.1250 - val_loss: 0.6177\n"
     ]
    },
    {
     "name": "stderr",
     "output_type": "stream",
     "text": [
      "2024/10/29 09:00:09 WARNING mlflow.tensorflow: Failed to infer model signature: could not sample data to infer model signature: unsupported operand type(s) for *: 'slice' and 'int'\n",
      "2024/10/29 09:00:09 WARNING mlflow.tensorflow: You are saving a TensorFlow Core model or Keras model without a signature. Inference with mlflow.pyfunc.spark_udf() will not work unless the model's pyfunc representation accepts pandas DataFrames as inference inputs.\n",
      "2024/10/29 09:00:12 WARNING mlflow.utils.environment: Encountered an unexpected error while inferring pip requirements (model URI: C:\\Users\\nicyu\\AppData\\Local\\Temp\\tmpgf74dpx1\\model, flavor: tensorflow). Fall back to return ['tensorflow==2.18.0', 'cloudpickle==3.1.0']. Set logging level to DEBUG to see the full traceback. \n",
      "2024/10/29 09:00:12 WARNING mlflow.models.model: Model logged without a signature and input example. Please set `input_example` parameter when logging the model to auto infer the model signature.\n",
      "2024/10/29 09:00:14 INFO mlflow.tracking._tracking_service.client: 🏃 View run unet_vgg16 Augmented with dice_loss at: http://127.0.0.1:8080/#/experiments/399004675090485682/runs/08eac55565c5439ba001167c41ab7343.\n",
      "2024/10/29 09:00:14 INFO mlflow.tracking._tracking_service.client: 🧪 View experiment at: http://127.0.0.1:8080/#/experiments/399004675090485682.\n",
      "2024/10/29 09:00:16 WARNING mlflow.tensorflow: Unrecognized dataset type <class '__main__.ImageMaskGenerator'>. Dataset logging skipped.\n",
      "2024/10/29 09:00:16 WARNING mlflow.tensorflow: Unrecognized dataset type <class '__main__.ImageMaskGenerator'>. Dataset logging skipped.\n"
     ]
    },
    {
     "data": {
      "text/html": [
       "<pre style=\"white-space:pre;overflow-x:auto;line-height:normal;font-family:Menlo,'DejaVu Sans Mono',consolas,'Courier New',monospace\"></pre>\n"
      ],
      "text/plain": []
     },
     "metadata": {},
     "output_type": "display_data"
    },
    {
     "name": "stdout",
     "output_type": "stream",
     "text": [
      "Epoch 1/5\n",
      "\u001b[1m93/93\u001b[0m \u001b[32m━━━━━━━━━━━━━━━━━━━━\u001b[0m\u001b[37m\u001b[0m \u001b[1m0s\u001b[0m 2s/step - accuracy: 0.5106 - dice_coefficient_multi_class: 0.3979 - iou_multi_class: 0.0756 - loss: 0.8955"
     ]
    },
    {
     "name": "stderr",
     "output_type": "stream",
     "text": [
      "WARNING:absl:You are saving your model as an HDF5 file via `model.save()` or `keras.saving.save_model(model)`. This file format is considered legacy. We recommend using instead the native Keras format, e.g. `model.save('my_model.keras')` or `keras.saving.save_model(model, 'my_model.keras')`. \n"
     ]
    },
    {
     "name": "stdout",
     "output_type": "stream",
     "text": [
      "\u001b[1m93/93\u001b[0m \u001b[32m━━━━━━━━━━━━━━━━━━━━\u001b[0m\u001b[37m\u001b[0m \u001b[1m218s\u001b[0m 2s/step - accuracy: 0.5117 - dice_coefficient_multi_class: 0.3977 - iou_multi_class: 0.0755 - loss: 0.8932 - val_accuracy: 0.7619 - val_dice_coefficient_multi_class: 0.3314 - val_iou_multi_class: 0.0613 - val_loss: 0.4261\n",
      "Epoch 2/5\n",
      "\u001b[1m93/93\u001b[0m \u001b[32m━━━━━━━━━━━━━━━━━━━━\u001b[0m\u001b[37m\u001b[0m \u001b[1m0s\u001b[0m 2s/step - accuracy: 0.7431 - dice_coefficient_multi_class: 0.3395 - iou_multi_class: 0.0617 - loss: 0.4514"
     ]
    },
    {
     "name": "stderr",
     "output_type": "stream",
     "text": [
      "WARNING:absl:You are saving your model as an HDF5 file via `model.save()` or `keras.saving.save_model(model)`. This file format is considered legacy. We recommend using instead the native Keras format, e.g. `model.save('my_model.keras')` or `keras.saving.save_model(model, 'my_model.keras')`. \n"
     ]
    },
    {
     "name": "stdout",
     "output_type": "stream",
     "text": [
      "\u001b[1m93/93\u001b[0m \u001b[32m━━━━━━━━━━━━━━━━━━━━\u001b[0m\u001b[37m\u001b[0m \u001b[1m212s\u001b[0m 2s/step - accuracy: 0.7431 - dice_coefficient_multi_class: 0.3395 - iou_multi_class: 0.0617 - loss: 0.4512 - val_accuracy: 0.8012 - val_dice_coefficient_multi_class: 0.3322 - val_iou_multi_class: 0.0607 - val_loss: 0.3475\n",
      "Epoch 3/5\n",
      "\u001b[1m93/93\u001b[0m \u001b[32m━━━━━━━━━━━━━━━━━━━━\u001b[0m\u001b[37m\u001b[0m \u001b[1m0s\u001b[0m 2s/step - accuracy: 0.7630 - dice_coefficient_multi_class: 0.3361 - iou_multi_class: 0.0615 - loss: 0.4093"
     ]
    },
    {
     "name": "stderr",
     "output_type": "stream",
     "text": [
      "WARNING:absl:You are saving your model as an HDF5 file via `model.save()` or `keras.saving.save_model(model)`. This file format is considered legacy. We recommend using instead the native Keras format, e.g. `model.save('my_model.keras')` or `keras.saving.save_model(model, 'my_model.keras')`. \n"
     ]
    },
    {
     "name": "stdout",
     "output_type": "stream",
     "text": [
      "\u001b[1m93/93\u001b[0m \u001b[32m━━━━━━━━━━━━━━━━━━━━\u001b[0m\u001b[37m\u001b[0m \u001b[1m212s\u001b[0m 2s/step - accuracy: 0.7631 - dice_coefficient_multi_class: 0.3361 - iou_multi_class: 0.0615 - loss: 0.4091 - val_accuracy: 0.8157 - val_dice_coefficient_multi_class: 0.2843 - val_iou_multi_class: 0.0604 - val_loss: 0.3222\n",
      "Epoch 4/5\n",
      "\u001b[1m93/93\u001b[0m \u001b[32m━━━━━━━━━━━━━━━━━━━━\u001b[0m\u001b[37m\u001b[0m \u001b[1m0s\u001b[0m 2s/step - accuracy: 0.7782 - dice_coefficient_multi_class: 0.3255 - iou_multi_class: 0.0614 - loss: 0.3824"
     ]
    },
    {
     "name": "stderr",
     "output_type": "stream",
     "text": [
      "WARNING:absl:You are saving your model as an HDF5 file via `model.save()` or `keras.saving.save_model(model)`. This file format is considered legacy. We recommend using instead the native Keras format, e.g. `model.save('my_model.keras')` or `keras.saving.save_model(model, 'my_model.keras')`. \n"
     ]
    },
    {
     "name": "stdout",
     "output_type": "stream",
     "text": [
      "\u001b[1m93/93\u001b[0m \u001b[32m━━━━━━━━━━━━━━━━━━━━\u001b[0m\u001b[37m\u001b[0m \u001b[1m211s\u001b[0m 2s/step - accuracy: 0.7782 - dice_coefficient_multi_class: 0.3254 - iou_multi_class: 0.0614 - loss: 0.3823 - val_accuracy: 0.8210 - val_dice_coefficient_multi_class: 0.2997 - val_iou_multi_class: 0.0597 - val_loss: 0.3123\n",
      "Epoch 5/5\n",
      "\u001b[1m93/93\u001b[0m \u001b[32m━━━━━━━━━━━━━━━━━━━━\u001b[0m\u001b[37m\u001b[0m \u001b[1m0s\u001b[0m 2s/step - accuracy: 0.7878 - dice_coefficient_multi_class: 0.2893 - iou_multi_class: 0.0607 - loss: 0.3659"
     ]
    },
    {
     "name": "stderr",
     "output_type": "stream",
     "text": [
      "WARNING:absl:You are saving your model as an HDF5 file via `model.save()` or `keras.saving.save_model(model)`. This file format is considered legacy. We recommend using instead the native Keras format, e.g. `model.save('my_model.keras')` or `keras.saving.save_model(model, 'my_model.keras')`. \n"
     ]
    },
    {
     "name": "stdout",
     "output_type": "stream",
     "text": [
      "\u001b[1m93/93\u001b[0m \u001b[32m━━━━━━━━━━━━━━━━━━━━\u001b[0m\u001b[37m\u001b[0m \u001b[1m212s\u001b[0m 2s/step - accuracy: 0.7878 - dice_coefficient_multi_class: 0.2891 - iou_multi_class: 0.0607 - loss: 0.3660 - val_accuracy: 0.8291 - val_dice_coefficient_multi_class: 0.2310 - val_iou_multi_class: 0.0610 - val_loss: 0.3001\n"
     ]
    },
    {
     "name": "stderr",
     "output_type": "stream",
     "text": [
      "2024/10/29 09:18:04 WARNING mlflow.tensorflow: Failed to infer model signature: could not sample data to infer model signature: unsupported operand type(s) for *: 'slice' and 'int'\n",
      "2024/10/29 09:18:04 WARNING mlflow.tensorflow: You are saving a TensorFlow Core model or Keras model without a signature. Inference with mlflow.pyfunc.spark_udf() will not work unless the model's pyfunc representation accepts pandas DataFrames as inference inputs.\n",
      "2024/10/29 09:18:08 WARNING mlflow.utils.environment: Encountered an unexpected error while inferring pip requirements (model URI: C:\\Users\\nicyu\\AppData\\Local\\Temp\\tmp2x5a5dn2\\model, flavor: tensorflow). Fall back to return ['tensorflow==2.18.0', 'cloudpickle==3.1.0']. Set logging level to DEBUG to see the full traceback. \n",
      "2024/10/29 09:18:08 WARNING mlflow.models.model: Model logged without a signature and input example. Please set `input_example` parameter when logging the model to auto infer the model signature.\n",
      "2024/10/29 09:18:10 INFO mlflow.tracking._tracking_service.client: 🏃 View run unet_vgg16 Augmented with total_loss at: http://127.0.0.1:8080/#/experiments/399004675090485682/runs/5be47c97d1fa461090ca3fa0d33626d0.\n",
      "2024/10/29 09:18:10 INFO mlflow.tracking._tracking_service.client: 🧪 View experiment at: http://127.0.0.1:8080/#/experiments/399004675090485682.\n"
     ]
    }
   ],
   "source": [
    "epochs = 5\n",
    "params_loss = [{\"name\":\"categorical_crossentropy\", \"loss\":\"categorical_crossentropy\"}, {\"name\":\"dice_loss\", \"loss\":dice_loss},{\"name\":\"total_loss\", \"loss\":total_loss}]\n",
    "\n",
    "for param in params_loss:\n",
    "    name_run = f\"unet_mini with {param[\"name\"]}\"\n",
    "    runs = mlflow.search_runs(filter_string=f\"tags.mlflow.runName='{name_run}'\").index\n",
    "    if len(runs) == 0:\n",
    "        train_sequence = ImageMaskGenerator(TRAIN_IMAGE_DIR, TRAIN_MASK_DIR, id2catid, batch_size=BATCH_SIZE, img_height=IMG_HEIGHT, img_width=IMG_WIDTH, limit_num_images=LIMIT_NUM_IMAGES)\n",
    "        val_sequence = ImageMaskGenerator(VAL_IMAGE_DIR, VAL_MASK_DIR, id2catid, batch_size=BATCH_SIZE, img_height=IMG_HEIGHT, img_width=IMG_WIDTH, shuffle=False, limit_num_images=LIMIT_NUM_IMAGES)\n",
    "        model_mini = unet_mini((IMG_HEIGHT, IMG_WIDTH, 3))\n",
    "        model_mini.compile(optimizer=\"adam\", loss=param[\"loss\"], metrics=[\"accuracy\", iou_multi_class, dice_coefficient_multi_class])\n",
    "        with mlflow.start_run(run_name=name_run):\n",
    "            model_mini.fit(train_sequence, validation_data=val_sequence, epochs=epochs, batch_size=BATCH_SIZE)\n",
    "\n",
    "for param in params_loss:\n",
    "    name_run = f\"unet_vgg16 with {param[\"name\"]}\"\n",
    "    runs = mlflow.search_runs(filter_string=f\"tags.mlflow.runName='{name_run}'\").index\n",
    "    if len(runs) == 0:\n",
    "        train_sequence = ImageMaskGenerator(TRAIN_IMAGE_DIR, TRAIN_MASK_DIR, id2catid, batch_size=BATCH_SIZE, img_height=IMG_HEIGHT, img_width=IMG_WIDTH, limit_num_images=LIMIT_NUM_IMAGES)\n",
    "        val_sequence = ImageMaskGenerator(VAL_IMAGE_DIR, VAL_MASK_DIR, id2catid, batch_size=BATCH_SIZE, img_height=IMG_HEIGHT, img_width=IMG_WIDTH, shuffle=False, limit_num_images=LIMIT_NUM_IMAGES)\n",
    "        model_vgg16 = unet_vgg16((IMG_HEIGHT, IMG_WIDTH, 3))\n",
    "        model_vgg16.compile(optimizer=\"adam\", loss=param[\"loss\"], metrics=[\"accuracy\", iou_multi_class, dice_coefficient_multi_class])\n",
    "        with mlflow.start_run(run_name=name_run):\n",
    "            model_vgg16.fit(train_sequence, validation_data=val_sequence, epochs=epochs, batch_size=BATCH_SIZE)\n",
    "\n",
    "for param in params_loss:\n",
    "    name_run = f\"unet_mini Augmented with {param[\"name\"]}\"\n",
    "    runs = mlflow.search_runs(filter_string=f\"tags.mlflow.runName='{name_run}'\").index\n",
    "    if len(runs) == 0:\n",
    "        train_sequence = ImageMaskGenerator(TRAIN_IMAGE_DIR, TRAIN_MASK_DIR, id2catid, batch_size=BATCH_SIZE, img_height=IMG_HEIGHT, img_width=IMG_WIDTH, limit_num_images=LIMIT_NUM_IMAGES, augment=True)\n",
    "        val_sequence = ImageMaskGenerator(VAL_IMAGE_DIR, VAL_MASK_DIR, id2catid, batch_size=BATCH_SIZE, img_height=IMG_HEIGHT, img_width=IMG_WIDTH, shuffle=False, limit_num_images=LIMIT_NUM_IMAGES)\n",
    "        model_mini = unet_mini((IMG_HEIGHT, IMG_WIDTH, 3))\n",
    "        model_mini.compile(optimizer=\"adam\", loss=param[\"loss\"], metrics=[\"accuracy\", iou_multi_class, dice_coefficient_multi_class])\n",
    "        with mlflow.start_run(run_name=name_run):\n",
    "            model_mini.fit(train_sequence, validation_data=val_sequence, epochs=epochs, batch_size=BATCH_SIZE)\n",
    "\n",
    "for param in params_loss:\n",
    "    name_run = f\"unet_vgg16 Augmented with {param[\"name\"]}\"\n",
    "    runs = mlflow.search_runs(filter_string=f\"tags.mlflow.runName='{name_run}'\").index\n",
    "    if len(runs) == 0:\n",
    "        train_sequence = ImageMaskGenerator(TRAIN_IMAGE_DIR, TRAIN_MASK_DIR, id2catid, batch_size=BATCH_SIZE, img_height=IMG_HEIGHT, img_width=IMG_WIDTH, limit_num_images=LIMIT_NUM_IMAGES, augment=True)\n",
    "        val_sequence = ImageMaskGenerator(VAL_IMAGE_DIR, VAL_MASK_DIR, id2catid, batch_size=BATCH_SIZE, img_height=IMG_HEIGHT, img_width=IMG_WIDTH, shuffle=False, limit_num_images=LIMIT_NUM_IMAGES)\n",
    "        model_vgg16 = unet_vgg16((IMG_HEIGHT, IMG_WIDTH, 3))\n",
    "        model_vgg16.compile(optimizer=\"adam\", loss=param[\"loss\"], metrics=[\"accuracy\", iou_multi_class, dice_coefficient_multi_class])\n",
    "        with mlflow.start_run(run_name=name_run):\n",
    "            model_vgg16.fit(train_sequence, validation_data=val_sequence, epochs=epochs, batch_size=BATCH_SIZE)"
   ]
  }
 ],
 "metadata": {
  "kernelspec": {
   "display_name": ".venv",
   "language": "python",
   "name": "python3"
  },
  "language_info": {
   "codemirror_mode": {
    "name": "ipython",
    "version": 3
   },
   "file_extension": ".py",
   "mimetype": "text/x-python",
   "name": "python",
   "nbconvert_exporter": "python",
   "pygments_lexer": "ipython3",
   "version": "3.12.2"
  }
 },
 "nbformat": 4,
 "nbformat_minor": 2
}
